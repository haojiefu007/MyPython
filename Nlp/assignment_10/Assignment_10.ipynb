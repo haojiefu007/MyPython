{
 "cells": [
  {
   "cell_type": "markdown",
   "metadata": {},
   "source": [
    "# Assignment 10"
   ]
  },
  {
   "cell_type": "markdown",
   "metadata": {},
   "source": [
    "### 1.复习上课内容"
   ]
  },
  {
   "cell_type": "markdown",
   "metadata": {},
   "source": [
    "### 2. 回答一下理论题目"
   ]
  },
  {
   "cell_type": "markdown",
   "metadata": {},
   "source": [
    "#### 1. What is independent assumption in Naive bayes ?"
   ]
  },
  {
   "cell_type": "markdown",
   "metadata": {},
   "source": [
    "ans:在推导朴素贝叶斯公式时，计算P(a1,a2,a3|b)的概率,假设特征a1,a2,a3是相互独立的，则可以近似变为P(a1|b)*P(a2|b)*P(a3|b)"
   ]
  },
  {
   "cell_type": "markdown",
   "metadata": {},
   "source": [
    "#### 2. What is MAP(maximum a posterior) and ML(maximum likelihood) ?"
   ]
  },
  {
   "cell_type": "markdown",
   "metadata": {},
   "source": [
    "ans:\n",
    "\n",
    "MAP(maximum a posterior):最大后验概率MAP=argmax P(h|D) = argmax P(D|h)P(h),即在给定的数据集中有很多拟合数据集D的线性函数h，选出最可能拟合的D的函数h的概率为MAP。\n",
    "\n",
    "ML(maximum likelihood):ML=argmax P(D|h),找一个函数可以最大程度拟合数据集D的概率,假设找所有函数h的概率是相等的，不像MAP是有偏好的，所以可以可以把MAP中的P(h)去掉得到ML。"
   ]
  },
  {
   "cell_type": "markdown",
   "metadata": {},
   "source": [
    "#### 3. What is support vector in SVM?"
   ]
  },
  {
   "cell_type": "markdown",
   "metadata": {},
   "source": [
    "ans:support vector是在边界上的向量，对边界有贡献的向量。经过计算后，样本中alpha大于0的点。"
   ]
  },
  {
   "cell_type": "markdown",
   "metadata": {},
   "source": [
    "#### 4. What is the intuition behind SVM ?"
   ]
  },
  {
   "cell_type": "markdown",
   "metadata": {},
   "source": [
    "ans:SVM是找到一个最优的分界线，这个最优的分界线可以把两个类别分的更开，即使得两个分类的边界距离最大的分界线就是SVM算法思想"
   ]
  },
  {
   "cell_type": "markdown",
   "metadata": {},
   "source": [
    "#### 5. Shortly describ what 'random' means in random forest ?"
   ]
  },
  {
   "cell_type": "markdown",
   "metadata": {},
   "source": [
    "ans:在对一个多feature的分类任务使用随机森林时，1.随机的初始化样本，2.随机的选取teature进行建树"
   ]
  },
  {
   "cell_type": "markdown",
   "metadata": {},
   "source": [
    "#### 6. What cariterion does XGBoost use to find the best split point in a tree ?"
   ]
  },
  {
   "cell_type": "markdown",
   "metadata": {},
   "source": [
    "ans:计算所有叶子结点的权重，并用该权重计算分割点的损失函数，损失函数最小的点即为需要分割的点。"
   ]
  },
  {
   "cell_type": "markdown",
   "metadata": {},
   "source": [
    "### 3. Practial part"
   ]
  },
  {
   "cell_type": "markdown",
   "metadata": {},
   "source": [
    "### Problem description: In this part you are going to build a classifier to detect if a piece of news is published by the Xinhua news agency (新华社）."
   ]
  },
  {
   "cell_type": "markdown",
   "metadata": {},
   "source": [
    "#### Hints:"
   ]
  },
  {
   "cell_type": "markdown",
   "metadata": {},
   "source": [
    "#### 1. Firstly, you have to come up with a way to represent the news. (Vectorize the sentence, you can find different ways to do so online)  "
   ]
  },
  {
   "cell_type": "code",
   "execution_count": 5,
   "metadata": {},
   "outputs": [],
   "source": [
    "import pandas as pd\n",
    "import re\n",
    "from sklearn.model_selection import train_test_split\n",
    "import numpy as np"
   ]
  },
  {
   "cell_type": "code",
   "execution_count": 12,
   "metadata": {},
   "outputs": [
    {
     "output_type": "execute_result",
     "data": {
      "text/plain": "      id      author                  source  \\\n0  89617         NaN  快科技@http://www.kkj.cn/   \n1  89616         NaN  快科技@http://www.kkj.cn/   \n2  89615         NaN  快科技@http://www.kkj.cn/   \n3  89614         NaN                     新华社   \n4  89613  胡淑丽_MN7479                   深圳大件事   \n\n                                             content  \\\n0  此外，自本周（6月12日）起，除小米手机6等15款机型外，其余机型已暂停更新发布（含开发版/...   \n1  骁龙835作为唯一通过Windows 10桌面平台认证的ARM处理器，高通强调，不会因为只考...   \n2  此前的一加3T搭载的是3400mAh电池，DashCharge快充规格为5V/4A。\\r\\n...   \n3    这是6月18日在葡萄牙中部大佩德罗冈地区拍摄的被森林大火烧毁的汽车。新华社记者张立云摄\\r\\n   \n4  （原标题：44岁女子跑深圳约会网友被拒，暴雨中裸身奔走……）\\r\\n@深圳交警微博称：昨日清...   \n\n                                             feature  \\\n0  {\"type\":\"科技\",\"site\":\"cnbeta\",\"commentNum\":\"37\"...   \n1  {\"type\":\"科技\",\"site\":\"cnbeta\",\"commentNum\":\"15\"...   \n2  {\"type\":\"科技\",\"site\":\"cnbeta\",\"commentNum\":\"18\"...   \n3  {\"type\":\"国际新闻\",\"site\":\"环球\",\"commentNum\":\"0\",\"j...   \n4  {\"type\":\"新闻\",\"site\":\"网易热门\",\"commentNum\":\"978\",...   \n\n                           title  \\\n0           小米MIUI 9首批机型曝光：共计15款   \n1     骁龙835在Windows 10上的性能表现有望改善   \n2      一加手机5细节曝光：3300mAh、充半小时用1天   \n3  葡森林火灾造成至少62人死亡 政府宣布进入紧急状态（组图）   \n4       44岁女子约网友被拒暴雨中裸奔 交警为其披衣相随   \n\n                                                 url  \n0     http://www.cnbeta.com/articles/tech/623597.htm  \n1     http://www.cnbeta.com/articles/tech/623599.htm  \n2     http://www.cnbeta.com/articles/tech/623601.htm  \n3  http://world.huanqiu.com/hot/2017-06/10866126....  \n4  http://news.163.com/17/0618/00/CN617P3Q0001875...  ",
      "text/html": "<div>\n<style scoped>\n    .dataframe tbody tr th:only-of-type {\n        vertical-align: middle;\n    }\n\n    .dataframe tbody tr th {\n        vertical-align: top;\n    }\n\n    .dataframe thead th {\n        text-align: right;\n    }\n</style>\n<table border=\"1\" class=\"dataframe\">\n  <thead>\n    <tr style=\"text-align: right;\">\n      <th></th>\n      <th>id</th>\n      <th>author</th>\n      <th>source</th>\n      <th>content</th>\n      <th>feature</th>\n      <th>title</th>\n      <th>url</th>\n    </tr>\n  </thead>\n  <tbody>\n    <tr>\n      <th>0</th>\n      <td>89617</td>\n      <td>NaN</td>\n      <td>快科技@http://www.kkj.cn/</td>\n      <td>此外，自本周（6月12日）起，除小米手机6等15款机型外，其余机型已暂停更新发布（含开发版/...</td>\n      <td>{\"type\":\"科技\",\"site\":\"cnbeta\",\"commentNum\":\"37\"...</td>\n      <td>小米MIUI 9首批机型曝光：共计15款</td>\n      <td>http://www.cnbeta.com/articles/tech/623597.htm</td>\n    </tr>\n    <tr>\n      <th>1</th>\n      <td>89616</td>\n      <td>NaN</td>\n      <td>快科技@http://www.kkj.cn/</td>\n      <td>骁龙835作为唯一通过Windows 10桌面平台认证的ARM处理器，高通强调，不会因为只考...</td>\n      <td>{\"type\":\"科技\",\"site\":\"cnbeta\",\"commentNum\":\"15\"...</td>\n      <td>骁龙835在Windows 10上的性能表现有望改善</td>\n      <td>http://www.cnbeta.com/articles/tech/623599.htm</td>\n    </tr>\n    <tr>\n      <th>2</th>\n      <td>89615</td>\n      <td>NaN</td>\n      <td>快科技@http://www.kkj.cn/</td>\n      <td>此前的一加3T搭载的是3400mAh电池，DashCharge快充规格为5V/4A。\\r\\n...</td>\n      <td>{\"type\":\"科技\",\"site\":\"cnbeta\",\"commentNum\":\"18\"...</td>\n      <td>一加手机5细节曝光：3300mAh、充半小时用1天</td>\n      <td>http://www.cnbeta.com/articles/tech/623601.htm</td>\n    </tr>\n    <tr>\n      <th>3</th>\n      <td>89614</td>\n      <td>NaN</td>\n      <td>新华社</td>\n      <td>这是6月18日在葡萄牙中部大佩德罗冈地区拍摄的被森林大火烧毁的汽车。新华社记者张立云摄\\r\\n</td>\n      <td>{\"type\":\"国际新闻\",\"site\":\"环球\",\"commentNum\":\"0\",\"j...</td>\n      <td>葡森林火灾造成至少62人死亡 政府宣布进入紧急状态（组图）</td>\n      <td>http://world.huanqiu.com/hot/2017-06/10866126....</td>\n    </tr>\n    <tr>\n      <th>4</th>\n      <td>89613</td>\n      <td>胡淑丽_MN7479</td>\n      <td>深圳大件事</td>\n      <td>（原标题：44岁女子跑深圳约会网友被拒，暴雨中裸身奔走……）\\r\\n@深圳交警微博称：昨日清...</td>\n      <td>{\"type\":\"新闻\",\"site\":\"网易热门\",\"commentNum\":\"978\",...</td>\n      <td>44岁女子约网友被拒暴雨中裸奔 交警为其披衣相随</td>\n      <td>http://news.163.com/17/0618/00/CN617P3Q0001875...</td>\n    </tr>\n  </tbody>\n</table>\n</div>"
     },
     "metadata": {},
     "execution_count": 12
    }
   ],
   "source": [
    "filename = 'D:/Repos/MyPython/Nlp/sqlResult_1558435.csv'\n",
    "content = pd.read_csv(filename, encoding='gb18030')\n",
    "content.head()"
   ]
  },
  {
   "cell_type": "code",
   "execution_count": 13,
   "metadata": {},
   "outputs": [],
   "source": [
    "#移除多余列\n",
    "content = content.drop(columns=['id','author','feature','url'])"
   ]
  },
  {
   "cell_type": "code",
   "execution_count": 14,
   "metadata": {},
   "outputs": [
    {
     "output_type": "execute_result",
     "data": {
      "text/plain": "                   source                                            content  \\\n0  快科技@http://www.kkj.cn/  此外，自本周（6月12日）起，除小米手机6等15款机型外，其余机型已暂停更新发布（含开发版/...   \n1  快科技@http://www.kkj.cn/  骁龙835作为唯一通过Windows 10桌面平台认证的ARM处理器，高通强调，不会因为只考...   \n2  快科技@http://www.kkj.cn/  此前的一加3T搭载的是3400mAh电池，DashCharge快充规格为5V/4A。\\r\\n...   \n3                     新华社    这是6月18日在葡萄牙中部大佩德罗冈地区拍摄的被森林大火烧毁的汽车。新华社记者张立云摄\\r\\n   \n4                   深圳大件事  （原标题：44岁女子跑深圳约会网友被拒，暴雨中裸身奔走……）\\r\\n@深圳交警微博称：昨日清...   \n\n                           title  \\\n0           小米MIUI 9首批机型曝光：共计15款   \n1     骁龙835在Windows 10上的性能表现有望改善   \n2      一加手机5细节曝光：3300mAh、充半小时用1天   \n3  葡森林火灾造成至少62人死亡 政府宣布进入紧急状态（组图）   \n4       44岁女子约网友被拒暴雨中裸奔 交警为其披衣相随   \n\n                                             article                  target  \n0  小米MIUI 9首批机型曝光：共计15款此外，自本周（6月12日）起，除小米手机6等15款机...  快科技@http://www.kkj.cn/  \n1  骁龙835在Windows 10上的性能表现有望改善骁龙835作为唯一通过Windows 1...  快科技@http://www.kkj.cn/  \n2  一加手机5细节曝光：3300mAh、充半小时用1天此前的一加3T搭载的是3400mAh电池，...  快科技@http://www.kkj.cn/  \n3  葡森林火灾造成至少62人死亡 政府宣布进入紧急状态（组图）这是6月18日在葡萄牙中部大佩德罗...                     新华社  \n4  44岁女子约网友被拒暴雨中裸奔 交警为其披衣相随（原标题：44岁女子跑深圳约会网友被拒，暴雨...                   深圳大件事  ",
      "text/html": "<div>\n<style scoped>\n    .dataframe tbody tr th:only-of-type {\n        vertical-align: middle;\n    }\n\n    .dataframe tbody tr th {\n        vertical-align: top;\n    }\n\n    .dataframe thead th {\n        text-align: right;\n    }\n</style>\n<table border=\"1\" class=\"dataframe\">\n  <thead>\n    <tr style=\"text-align: right;\">\n      <th></th>\n      <th>source</th>\n      <th>content</th>\n      <th>title</th>\n      <th>article</th>\n      <th>target</th>\n    </tr>\n  </thead>\n  <tbody>\n    <tr>\n      <th>0</th>\n      <td>快科技@http://www.kkj.cn/</td>\n      <td>此外，自本周（6月12日）起，除小米手机6等15款机型外，其余机型已暂停更新发布（含开发版/...</td>\n      <td>小米MIUI 9首批机型曝光：共计15款</td>\n      <td>小米MIUI 9首批机型曝光：共计15款此外，自本周（6月12日）起，除小米手机6等15款机...</td>\n      <td>快科技@http://www.kkj.cn/</td>\n    </tr>\n    <tr>\n      <th>1</th>\n      <td>快科技@http://www.kkj.cn/</td>\n      <td>骁龙835作为唯一通过Windows 10桌面平台认证的ARM处理器，高通强调，不会因为只考...</td>\n      <td>骁龙835在Windows 10上的性能表现有望改善</td>\n      <td>骁龙835在Windows 10上的性能表现有望改善骁龙835作为唯一通过Windows 1...</td>\n      <td>快科技@http://www.kkj.cn/</td>\n    </tr>\n    <tr>\n      <th>2</th>\n      <td>快科技@http://www.kkj.cn/</td>\n      <td>此前的一加3T搭载的是3400mAh电池，DashCharge快充规格为5V/4A。\\r\\n...</td>\n      <td>一加手机5细节曝光：3300mAh、充半小时用1天</td>\n      <td>一加手机5细节曝光：3300mAh、充半小时用1天此前的一加3T搭载的是3400mAh电池，...</td>\n      <td>快科技@http://www.kkj.cn/</td>\n    </tr>\n    <tr>\n      <th>3</th>\n      <td>新华社</td>\n      <td>这是6月18日在葡萄牙中部大佩德罗冈地区拍摄的被森林大火烧毁的汽车。新华社记者张立云摄\\r\\n</td>\n      <td>葡森林火灾造成至少62人死亡 政府宣布进入紧急状态（组图）</td>\n      <td>葡森林火灾造成至少62人死亡 政府宣布进入紧急状态（组图）这是6月18日在葡萄牙中部大佩德罗...</td>\n      <td>新华社</td>\n    </tr>\n    <tr>\n      <th>4</th>\n      <td>深圳大件事</td>\n      <td>（原标题：44岁女子跑深圳约会网友被拒，暴雨中裸身奔走……）\\r\\n@深圳交警微博称：昨日清...</td>\n      <td>44岁女子约网友被拒暴雨中裸奔 交警为其披衣相随</td>\n      <td>44岁女子约网友被拒暴雨中裸奔 交警为其披衣相随（原标题：44岁女子跑深圳约会网友被拒，暴雨...</td>\n      <td>深圳大件事</td>\n    </tr>\n  </tbody>\n</table>\n</div>"
     },
     "metadata": {},
     "execution_count": 14
    }
   ],
   "source": [
    "#添加新列：文章=标题+正文、结果\n",
    "content.eval(\"\"\"\n",
    "article = title + content\n",
    "target = source\"\"\", inplace=True)\n",
    "content.head()"
   ]
  },
  {
   "cell_type": "code",
   "execution_count": 15,
   "metadata": {},
   "outputs": [
    {
     "output_type": "execute_result",
     "data": {
      "text/plain": "                   source                                            content  \\\n0  快科技@http://www.kkj.cn/  此外，自本周（6月12日）起，除小米手机6等15款机型外，其余机型已暂停更新发布（含开发版/...   \n1  快科技@http://www.kkj.cn/  骁龙835作为唯一通过Windows 10桌面平台认证的ARM处理器，高通强调，不会因为只考...   \n2  快科技@http://www.kkj.cn/  此前的一加3T搭载的是3400mAh电池，DashCharge快充规格为5V/4A。\\r\\n...   \n3                     新华社    这是6月18日在葡萄牙中部大佩德罗冈地区拍摄的被森林大火烧毁的汽车。新华社记者张立云摄\\r\\n   \n4                   深圳大件事  （原标题：44岁女子跑深圳约会网友被拒，暴雨中裸身奔走……）\\r\\n@深圳交警微博称：昨日清...   \n\n                           title  \\\n0           小米MIUI 9首批机型曝光：共计15款   \n1     骁龙835在Windows 10上的性能表现有望改善   \n2      一加手机5细节曝光：3300mAh、充半小时用1天   \n3  葡森林火灾造成至少62人死亡 政府宣布进入紧急状态（组图）   \n4       44岁女子约网友被拒暴雨中裸奔 交警为其披衣相随   \n\n                                             article  target  \n0  小米MIUI 9首批机型曝光：共计15款此外，自本周（6月12日）起，除小米手机6等15款机...       0  \n1  骁龙835在Windows 10上的性能表现有望改善骁龙835作为唯一通过Windows 1...       0  \n2  一加手机5细节曝光：3300mAh、充半小时用1天此前的一加3T搭载的是3400mAh电池，...       0  \n3  葡森林火灾造成至少62人死亡 政府宣布进入紧急状态（组图）这是6月18日在葡萄牙中部大佩德罗...       1  \n4  44岁女子约网友被拒暴雨中裸奔 交警为其披衣相随（原标题：44岁女子跑深圳约会网友被拒，暴雨...       0  ",
      "text/html": "<div>\n<style scoped>\n    .dataframe tbody tr th:only-of-type {\n        vertical-align: middle;\n    }\n\n    .dataframe tbody tr th {\n        vertical-align: top;\n    }\n\n    .dataframe thead th {\n        text-align: right;\n    }\n</style>\n<table border=\"1\" class=\"dataframe\">\n  <thead>\n    <tr style=\"text-align: right;\">\n      <th></th>\n      <th>source</th>\n      <th>content</th>\n      <th>title</th>\n      <th>article</th>\n      <th>target</th>\n    </tr>\n  </thead>\n  <tbody>\n    <tr>\n      <th>0</th>\n      <td>快科技@http://www.kkj.cn/</td>\n      <td>此外，自本周（6月12日）起，除小米手机6等15款机型外，其余机型已暂停更新发布（含开发版/...</td>\n      <td>小米MIUI 9首批机型曝光：共计15款</td>\n      <td>小米MIUI 9首批机型曝光：共计15款此外，自本周（6月12日）起，除小米手机6等15款机...</td>\n      <td>0</td>\n    </tr>\n    <tr>\n      <th>1</th>\n      <td>快科技@http://www.kkj.cn/</td>\n      <td>骁龙835作为唯一通过Windows 10桌面平台认证的ARM处理器，高通强调，不会因为只考...</td>\n      <td>骁龙835在Windows 10上的性能表现有望改善</td>\n      <td>骁龙835在Windows 10上的性能表现有望改善骁龙835作为唯一通过Windows 1...</td>\n      <td>0</td>\n    </tr>\n    <tr>\n      <th>2</th>\n      <td>快科技@http://www.kkj.cn/</td>\n      <td>此前的一加3T搭载的是3400mAh电池，DashCharge快充规格为5V/4A。\\r\\n...</td>\n      <td>一加手机5细节曝光：3300mAh、充半小时用1天</td>\n      <td>一加手机5细节曝光：3300mAh、充半小时用1天此前的一加3T搭载的是3400mAh电池，...</td>\n      <td>0</td>\n    </tr>\n    <tr>\n      <th>3</th>\n      <td>新华社</td>\n      <td>这是6月18日在葡萄牙中部大佩德罗冈地区拍摄的被森林大火烧毁的汽车。新华社记者张立云摄\\r\\n</td>\n      <td>葡森林火灾造成至少62人死亡 政府宣布进入紧急状态（组图）</td>\n      <td>葡森林火灾造成至少62人死亡 政府宣布进入紧急状态（组图）这是6月18日在葡萄牙中部大佩德罗...</td>\n      <td>1</td>\n    </tr>\n    <tr>\n      <th>4</th>\n      <td>深圳大件事</td>\n      <td>（原标题：44岁女子跑深圳约会网友被拒，暴雨中裸身奔走……）\\r\\n@深圳交警微博称：昨日清...</td>\n      <td>44岁女子约网友被拒暴雨中裸奔 交警为其披衣相随</td>\n      <td>44岁女子约网友被拒暴雨中裸奔 交警为其披衣相随（原标题：44岁女子跑深圳约会网友被拒，暴雨...</td>\n      <td>0</td>\n    </tr>\n  </tbody>\n</table>\n</div>"
     },
     "metadata": {},
     "execution_count": 15
    }
   ],
   "source": [
    "#处理目标，包含新华社的为1，不包含为0\n",
    "content[u'target'] = content[u'target'].astype(str)\n",
    "#无三元表达式，使用if else代替\n",
    "content[u'target'] = content[u'target'].apply(lambda x :('1' if x.find(\"新华社\") >= 0 else '0'))\n",
    "content[u'target'] = content[u'target'].astype(int)\n",
    "content.head()"
   ]
  },
  {
   "cell_type": "code",
   "execution_count": 24,
   "metadata": {},
   "outputs": [
    {
     "output_type": "execute_result",
     "data": {
      "text/plain": "                   source                                            content  \\\n0  快科技@http://www.kkj.cn/  此外，自本周（6月12日）起，除小米手机6等15款机型外，其余机型已暂停更新发布（含开发版/...   \n1  快科技@http://www.kkj.cn/  骁龙835作为唯一通过Windows 10桌面平台认证的ARM处理器，高通强调，不会因为只考...   \n2  快科技@http://www.kkj.cn/  此前的一加3T搭载的是3400mAh电池，DashCharge快充规格为5V/4A。\\r\\n...   \n3                     新华社    这是6月18日在葡萄牙中部大佩德罗冈地区拍摄的被森林大火烧毁的汽车。新华社记者张立云摄\\r\\n   \n4                   深圳大件事  （原标题：44岁女子跑深圳约会网友被拒，暴雨中裸身奔走……）\\r\\n@深圳交警微博称：昨日清...   \n\n                           title  \\\n0           小米MIUI 9首批机型曝光：共计15款   \n1     骁龙835在Windows 10上的性能表现有望改善   \n2      一加手机5细节曝光：3300mAh、充半小时用1天   \n3  葡森林火灾造成至少62人死亡 政府宣布进入紧急状态（组图）   \n4       44岁女子约网友被拒暴雨中裸奔 交警为其披衣相随   \n\n                                             article  target  \n0  小米MIUI9首批机型曝光：共计15款此外，自本周（6月12日）起，除小米手机6等15款机型...       0  \n1  骁龙835在Windows10上的性能表现有望改善骁龙835作为唯一通过Windows10桌...       0  \n2  一加手机5细节曝光：3300mAh、充半小时用1天此前的一加3T搭载的是3400mAh电池，...       0  \n3  葡森林火灾造成至少62人死亡政府宣布进入紧急状态（组图）这是6月18日在葡萄牙中部大佩德罗冈...       1  \n4  44岁女子约网友被拒暴雨中裸奔交警为其披衣相随（原标题：44岁女子跑深圳约会网友被拒，暴雨中...       0  ",
      "text/html": "<div>\n<style scoped>\n    .dataframe tbody tr th:only-of-type {\n        vertical-align: middle;\n    }\n\n    .dataframe tbody tr th {\n        vertical-align: top;\n    }\n\n    .dataframe thead th {\n        text-align: right;\n    }\n</style>\n<table border=\"1\" class=\"dataframe\">\n  <thead>\n    <tr style=\"text-align: right;\">\n      <th></th>\n      <th>source</th>\n      <th>content</th>\n      <th>title</th>\n      <th>article</th>\n      <th>target</th>\n    </tr>\n  </thead>\n  <tbody>\n    <tr>\n      <th>0</th>\n      <td>快科技@http://www.kkj.cn/</td>\n      <td>此外，自本周（6月12日）起，除小米手机6等15款机型外，其余机型已暂停更新发布（含开发版/...</td>\n      <td>小米MIUI 9首批机型曝光：共计15款</td>\n      <td>小米MIUI9首批机型曝光：共计15款此外，自本周（6月12日）起，除小米手机6等15款机型...</td>\n      <td>0</td>\n    </tr>\n    <tr>\n      <th>1</th>\n      <td>快科技@http://www.kkj.cn/</td>\n      <td>骁龙835作为唯一通过Windows 10桌面平台认证的ARM处理器，高通强调，不会因为只考...</td>\n      <td>骁龙835在Windows 10上的性能表现有望改善</td>\n      <td>骁龙835在Windows10上的性能表现有望改善骁龙835作为唯一通过Windows10桌...</td>\n      <td>0</td>\n    </tr>\n    <tr>\n      <th>2</th>\n      <td>快科技@http://www.kkj.cn/</td>\n      <td>此前的一加3T搭载的是3400mAh电池，DashCharge快充规格为5V/4A。\\r\\n...</td>\n      <td>一加手机5细节曝光：3300mAh、充半小时用1天</td>\n      <td>一加手机5细节曝光：3300mAh、充半小时用1天此前的一加3T搭载的是3400mAh电池，...</td>\n      <td>0</td>\n    </tr>\n    <tr>\n      <th>3</th>\n      <td>新华社</td>\n      <td>这是6月18日在葡萄牙中部大佩德罗冈地区拍摄的被森林大火烧毁的汽车。新华社记者张立云摄\\r\\n</td>\n      <td>葡森林火灾造成至少62人死亡 政府宣布进入紧急状态（组图）</td>\n      <td>葡森林火灾造成至少62人死亡政府宣布进入紧急状态（组图）这是6月18日在葡萄牙中部大佩德罗冈...</td>\n      <td>1</td>\n    </tr>\n    <tr>\n      <th>4</th>\n      <td>深圳大件事</td>\n      <td>（原标题：44岁女子跑深圳约会网友被拒，暴雨中裸身奔走……）\\r\\n@深圳交警微博称：昨日清...</td>\n      <td>44岁女子约网友被拒暴雨中裸奔 交警为其披衣相随</td>\n      <td>44岁女子约网友被拒暴雨中裸奔交警为其披衣相随（原标题：44岁女子跑深圳约会网友被拒，暴雨中...</td>\n      <td>0</td>\n    </tr>\n  </tbody>\n</table>\n</div>"
     },
     "metadata": {},
     "execution_count": 24
    }
   ],
   "source": [
    "#移除文章中多余的换行符\n",
    "content[u'article'] = content[u'article'].astype(str)\n",
    "content[u'article'] = content[u'article'].apply(lambda x : x.replace('\\r',''))\n",
    "content[u'article'] = content[u'article'].apply(lambda x : x.replace('\\n',''))\n",
    "content[u'article'] = content[u'article'].apply(lambda x : x.replace('\\u3000',''))\n",
    "content[u'article'] = content[u'article'].apply(lambda x : x.replace('\\\\n',''))\n",
    "content[u'article'] = content[u'article'].apply(lambda x : x.replace(' ',''))\n",
    "content.head()"
   ]
  },
  {
   "cell_type": "code",
   "execution_count": 25,
   "metadata": {},
   "outputs": [],
   "source": [
    "#以下保存指定的列到新的csv文件，index=0表示不为每一行自动编号，header=1表示行首有字段名称\n",
    "content.to_csv('news_fix.csv',columns=['article','target'],index=0,header=1,quoting=1)"
   ]
  },
  {
   "cell_type": "code",
   "execution_count": 23,
   "metadata": {},
   "outputs": [
    {
     "output_type": "execute_result",
     "data": {
      "text/plain": "'新华社德国杜塞尔多夫６月６日电题：乒乓女球迷新华社记者王子江、张寒熊老师离开上海前，特意花一千多元买了一只张继科代言的球拍，准备在世界锦标赛期间他赢了比赛后，能在球拍上签个名。但没想到张继科在３２强赛中，输给了韩国的李尚洙。“拍子算是白拿过来了。”熊老师摇头，“就算是信仰充值了。”“信仰充值”是乒乓球粉丝圈非常流行的词汇，简单来说，就是为自己喜欢的明星或球队花钱。“熊老师”是这位２２岁的成都姑娘的“艺名”，“艺名”这一称呼也是她们自己形容的。熊老师的真实身份是上海一所名牌大学会计专业的大四学生，其他同学正在抓紧毕业找工作，她一个人溜到德国观看世乒赛。尽管带着张继科的球拍，但熊老师并不是张的铁粉，她并不喜欢张继科输了比赛之后，一堆“科迷”在赛场外抱头痛哭的场景，而显得比较理智。但是因为“科迷”数量众多，让她这种散户，也有些说不出的羡慕。“他们竟然连续两天买断了一面看台上所有的门票，为的是挂起带有张继科名字的旗子，两天就要花４、５万人民币。”熊老师直喊过分。熊老师与其他１０名中国队女球迷挤在一套三居室里，厨房的柜子里塞了很多方便面。至少三个人挤在一个房间里，条件的确差了点，但住宿费平摊下来每天只有大约２００元人民币，这样让大家心里平衡了很多。房间里的所有人都是在网上认识的，大家也并不全知道对方真实的姓名和身份。“我们都用艺名。”来自广州的茶茶说。茶茶已经工作了几年，这次也是利用假期出来的。所有人都是提前大约半年从国际乒联的官网上买了比赛的通票，可以观看全程所有的比赛，票价大约两千块人民币。５月底６月初并不是旅游旺季，机票也不是太贵，这让她们都很庆幸。里面最幸运的应该是井井，她这次来的身份是一家时尚媒体的记者，她申请到了记者证，每天背着一个大相机在场地里边拍照边看球。她提前大约一个星期就来到了德国，比赛开始前她去附近几个城市玩了玩，这一趟世乒赛之旅非常充实。十几个人中最不像球迷的是一位来自香港的女大学生，看上去文静内向，其他人都叫她香港妹。香港妹与熊老师一样，都是学的会计专业。她告诉父母这次出来是到德国看朋友，住宿和球票的花费都是平时做家教挣的，父母支援了机票钱，从香港到杜塞尔多夫往返只有三千多元人民币，让其他内地球迷非常羡慕。香港妹以前并不懂乒乓球，去年里约奥运会时，一家人边吃饭边看电视，正好电视直播乒乓球比赛，从此她就成了中国队的球迷。香港妹更让人羡慕的还是来德国不用签证，不过熊老师也欣慰地说，这次有了德国的签证，以后去日本看比赛签证就容易多了。这些女孩子大部分都是第一次出国，以前都是在国内看比赛，熊老师自称这几年甚至到过一些非常奇葩的赛场，去年一个比赛在东北某城市举行，由于赛场过于偏僻，她在手机上点了外卖，最后却被强制退单，她饿着肚子看完了比赛。女球迷们每天早出晚归，看完比赛回来有时候近半夜，回来之后还要互相交流当天的看球感想，十几个女孩子叽叽喳喳，吵得楼上一个德国老太太下来敲门，让她们保持安静，但她们聊着聊着仍然不自觉嗓门就大起来。世乒赛闭幕那天晚上，她们在餐馆里吃了顿散伙饭。中国队拿了４个冠军，但每个人的心情不一样，因为她们支持的偶像并不完全相同。好几人支持刘诗雯，但她在女单半决赛就输了。“小伙伴们一起丧了很久。”井井在朋友圈里说。告别的那天，大家不约而同在朋友圈里晒了聚餐的照片，伤感地告别。“走了，杜塞尔多夫。”井井说。“在这呆了一个星期，要走了还是有点不舍得，都还没好好看看这个城市，再见啦，杜塞。”茶茶说。熊老师最后一条朋友圈发的是丁宁和刘诗雯赢得女双冠军的照片。“懂事之前，情动以后，长不过一天。留不住，算不出，流年。”她写道。（完）'"
     },
     "metadata": {},
     "execution_count": 23
    }
   ],
   "source": [
    "content['content'].tolist()[-1].replace('\\r','').replace('\\n','').replace('\\u3000','').replace('\\\\n','')"
   ]
  },
  {
   "cell_type": "code",
   "execution_count": 8,
   "metadata": {},
   "outputs": [
    {
     "output_type": "execute_result",
     "data": {
      "text/plain": "                                             article  target\n0  小米MIUI9首批机型曝光：共计15款此外，自本周（6月12日）起，除小米手机6等15款机型...       0\n1  骁龙835在Windows10上的性能表现有望改善骁龙835作为唯一通过Windows10桌...       0\n2  一加手机5细节曝光：3300mAh、充半小时用1天此前的一加3T搭载的是3400mAh电池，...       0\n3  葡森林火灾造成至少62人死亡政府宣布进入紧急状态（组图）这是6月18日在葡萄牙中部大佩德罗冈...       1\n4  44岁女子约网友被拒暴雨中裸奔交警为其披衣相随（原标题：44岁女子跑深圳约会网友被拒，暴雨中...       0",
      "text/html": "<div>\n<style scoped>\n    .dataframe tbody tr th:only-of-type {\n        vertical-align: middle;\n    }\n\n    .dataframe tbody tr th {\n        vertical-align: top;\n    }\n\n    .dataframe thead th {\n        text-align: right;\n    }\n</style>\n<table border=\"1\" class=\"dataframe\">\n  <thead>\n    <tr style=\"text-align: right;\">\n      <th></th>\n      <th>article</th>\n      <th>target</th>\n    </tr>\n  </thead>\n  <tbody>\n    <tr>\n      <th>0</th>\n      <td>小米MIUI9首批机型曝光：共计15款此外，自本周（6月12日）起，除小米手机6等15款机型...</td>\n      <td>0</td>\n    </tr>\n    <tr>\n      <th>1</th>\n      <td>骁龙835在Windows10上的性能表现有望改善骁龙835作为唯一通过Windows10桌...</td>\n      <td>0</td>\n    </tr>\n    <tr>\n      <th>2</th>\n      <td>一加手机5细节曝光：3300mAh、充半小时用1天此前的一加3T搭载的是3400mAh电池，...</td>\n      <td>0</td>\n    </tr>\n    <tr>\n      <th>3</th>\n      <td>葡森林火灾造成至少62人死亡政府宣布进入紧急状态（组图）这是6月18日在葡萄牙中部大佩德罗冈...</td>\n      <td>1</td>\n    </tr>\n    <tr>\n      <th>4</th>\n      <td>44岁女子约网友被拒暴雨中裸奔交警为其披衣相随（原标题：44岁女子跑深圳约会网友被拒，暴雨中...</td>\n      <td>0</td>\n    </tr>\n  </tbody>\n</table>\n</div>"
     },
     "metadata": {},
     "execution_count": 8
    }
   ],
   "source": [
    "#从清理过的新闻中读取\n",
    "article = pd.read_csv('news_fix.csv')\n",
    "X = article['article'].tolist()\n",
    "Y = article['target'].tolist()\n",
    "article.head()"
   ]
  },
  {
   "cell_type": "code",
   "execution_count": 37,
   "metadata": {},
   "outputs": [
    {
     "output_type": "stream",
     "name": "stdout",
     "text": "89611\n89611\n"
    }
   ],
   "source": [
    "print(len(X))\n",
    "print(len(Y))"
   ]
  },
  {
   "cell_type": "code",
   "execution_count": 54,
   "metadata": {},
   "outputs": [],
   "source": [
    "#句子向量化\n",
    "import numpy as np\n",
    "import jieba\n",
    "from gensim.models import Word2Vec\n",
    "from sklearn.decomposition import PCA\n",
    "\n",
    "alpha = 1e-3\n",
    "modefile = 'D:/Repos/NlpProject_01/Jeff/File/06wiki_news_word2vec_model'\n",
    "wordmodel = Word2Vec.load(modefile)\n",
    "embedding_size = 300\n",
    "articlesplit = '[。.？?]'\n",
    "\n",
    "def Articele2Vec(article):\n",
    "    # 拆分成句子\n",
    "    sentences = re.split(articlesplit, str(article).strip())\n",
    "    articelesumdict = []\n",
    "    sumdict = []\n",
    "    lencount = 0\n",
    "    #计算每句的向量\n",
    "    for sen in sentences:\n",
    "        if len(sen) == 0:\n",
    "            continue\n",
    "        # 逐句计算向量\n",
    "        articelesum, sensum, lens = Sentence2Vec(sen)\n",
    "        articelesumdict.append(articelesum)\n",
    "        lencount += lens\n",
    "\n",
    "    #汇总每句向量成文章向量\n",
    "    articelesum = sum(articelesumdict)/lencount\n",
    "    sumdict.append(articelesum)\n",
    "\n",
    "    # calculate PCA of this sentence set\n",
    "    pca = PCA()\n",
    "    pca.fit(np.array(sumdict))\n",
    "    u = pca.components_[0]  # the PCA vector\n",
    "    u = np.multiply(u, np.transpose(u))  # u x uT\n",
    "\n",
    "    # pad the vector?  (occurs if we have less sentences than embeddings_size)\n",
    "    if u.shape[0] < embedding_size:\n",
    "        for i in range(embedding_size - len(u)):\n",
    "            # add needed extension for multiplication below\n",
    "            u = np.append(u, 0)\n",
    "\n",
    "    # resulting sentence vectors, vs = vec -u x uT x vec\n",
    "    sub = np.multiply(u, articelesum)\n",
    "    return np.subtract(articelesum, sub)\n",
    "\n",
    "def Sentence2Vec(sentence):\n",
    "    words = list(jieba.cut(sentence))\n",
    "    sum = np.zeros(embedding_size)\n",
    "    for word in words:\n",
    "        if word in wordmodel:\n",
    "            weight = alpha / (alpha + wordmodel.wv.vocab[word].count / wordmodel.corpus_total_words)\n",
    "            sum += np.multiply(weight, wordmodel[word])\n",
    "    return sum, sum/len(words), len(words)#sum句子,句子vec,句子中词数量"
   ]
  },
  {
   "cell_type": "code",
   "execution_count": 57,
   "metadata": {},
   "outputs": [
    {
     "output_type": "stream",
     "name": "stdout",
     "text": "5000 finish!\n10000 finish!\n15000 finish!\n20000 finish!\n25000 finish!\n30000 finish!\n35000 finish!\n40000 finish!\n45000 finish!\n50000 finish!\n55000 finish!\n60000 finish!\n65000 finish!\n70000 finish!\n75000 finish!\n80000 finish!\n85000 finish!\n"
    }
   ],
   "source": [
    "#计算文章向量\n",
    "artvec = []\n",
    "count = 0\n",
    "for art in X:\n",
    "    artvec.append(Articele2Vec(art))\n",
    "    count += 1\n",
    "    if count % 5000 == 0:\n",
    "        print('{} finish!'.format(count))"
   ]
  },
  {
   "cell_type": "code",
   "execution_count": 60,
   "metadata": {},
   "outputs": [],
   "source": [
    "#保存到文件\n",
    "np.savetxt(\"artvec.txt\", artvec)"
   ]
  },
  {
   "cell_type": "code",
   "execution_count": 6,
   "metadata": {},
   "outputs": [],
   "source": [
    "#从文件读取\n",
    "artvec = np.loadtxt(\"artvec.txt\")"
   ]
  },
  {
   "cell_type": "code",
   "execution_count": 9,
   "metadata": {},
   "outputs": [],
   "source": [
    "X_train, X_test, y_train, y_test = train_test_split(artvec, Y, test_size=0.25, random_state=0)"
   ]
  },
  {
   "cell_type": "markdown",
   "metadata": {},
   "source": [
    "#### 2. Secondly,  pick a machine learning algorithm that you think is suitable for this task"
   ]
  },
  {
   "cell_type": "code",
   "execution_count": 10,
   "metadata": {},
   "outputs": [
    {
     "output_type": "execute_result",
     "data": {
      "text/plain": "SVC(C=1.0, break_ties=False, cache_size=200, class_weight=None, coef0=0.0,\n    decision_function_shape='ovr', degree=3, gamma='scale', kernel='rbf',\n    max_iter=-1, probability=False, random_state=None, shrinking=True,\n    tol=0.001, verbose=False)"
     },
     "metadata": {},
     "execution_count": 10
    }
   ],
   "source": [
    "#支持向量机\n",
    "from sklearn.svm import SVC\n",
    "cls = SVC()\n",
    "cls.fit(X_train,y_train)"
   ]
  },
  {
   "cell_type": "code",
   "execution_count": 17,
   "metadata": {},
   "outputs": [
    {
     "output_type": "stream",
     "name": "stdout",
     "text": "0.9729946882114002\n"
    }
   ],
   "source": [
    "#显示准确率\n",
    "svmscore = cls.score(X_test,y_test)\n",
    "print(svmscore)"
   ]
  },
  {
   "cell_type": "markdown",
   "metadata": {},
   "source": [
    "### Congratulations! You have completed all assignments in this week. The question below is optional. If you still have time, why don't try it out."
   ]
  },
  {
   "cell_type": "markdown",
   "metadata": {},
   "source": [
    "## Option:"
   ]
  },
  {
   "cell_type": "markdown",
   "metadata": {},
   "source": [
    "#### Try differnt machine learning algorithms with different combinations of parameters in the practical part, and compare their performances (Better use some visualization techiniques)."
   ]
  },
  {
   "cell_type": "code",
   "execution_count": 12,
   "metadata": {},
   "outputs": [
    {
     "output_type": "execute_result",
     "data": {
      "text/plain": "RandomForestClassifier(bootstrap=True, ccp_alpha=0.0, class_weight=None,\n                       criterion='gini', max_depth=None, max_features='auto',\n                       max_leaf_nodes=None, max_samples=None,\n                       min_impurity_decrease=0.0, min_impurity_split=None,\n                       min_samples_leaf=1, min_samples_split=2,\n                       min_weight_fraction_leaf=0.0, n_estimators=500,\n                       n_jobs=None, oob_score=False, random_state=None,\n                       verbose=0, warm_start=False)"
     },
     "metadata": {},
     "execution_count": 12
    }
   ],
   "source": [
    "#随机森林\n",
    "from sklearn.ensemble import RandomForestClassifier\n",
    "rnd_clf = RandomForestClassifier(n_estimators=500)\n",
    "rnd_clf.fit(X_train,y_train)"
   ]
  },
  {
   "cell_type": "code",
   "execution_count": 16,
   "metadata": {},
   "outputs": [
    {
     "output_type": "stream",
     "name": "stdout",
     "text": "0.9551399366156318\n"
    }
   ],
   "source": [
    "#随机森林准确率\n",
    "rndscore = rnd_clf.score(X_test,y_test)\n",
    "print(rndscore)"
   ]
  },
  {
   "cell_type": "code",
   "execution_count": 14,
   "metadata": {},
   "outputs": [
    {
     "output_type": "execute_result",
     "data": {
      "text/plain": "XGBClassifier(base_score=0.5, booster=None, colsample_bylevel=1,\n              colsample_bynode=1, colsample_bytree=1, gamma=0, gpu_id=-1,\n              importance_type='gain', interaction_constraints=None,\n              learning_rate=0.300000012, max_delta_step=0, max_depth=6,\n              min_child_weight=1, missing=nan, monotone_constraints=None,\n              n_estimators=100, n_jobs=0, num_parallel_tree=1,\n              objective='binary:logistic', random_state=0, reg_alpha=0,\n              reg_lambda=1, scale_pos_weight=1, subsample=1, tree_method=None,\n              validate_parameters=False, verbosity=None)"
     },
     "metadata": {},
     "execution_count": 14
    }
   ],
   "source": [
    "#XGboost\n",
    "from xgboost import XGBClassifier\n",
    "xg = XGBClassifier()\n",
    "xg.fit(X_train,y_train)"
   ]
  },
  {
   "cell_type": "code",
   "execution_count": 15,
   "metadata": {},
   "outputs": [
    {
     "output_type": "stream",
     "name": "stdout",
     "text": "0.9707182073829398\n"
    }
   ],
   "source": [
    "#XGboost准确率\n",
    "xgscore = xg.score(X_test,y_test)\n",
    "print(xgscore)"
   ]
  },
  {
   "cell_type": "code",
   "execution_count": 18,
   "metadata": {},
   "outputs": [
    {
     "output_type": "display_data",
     "data": {
      "text/plain": "<Figure size 432x288 with 1 Axes>",
      "image/svg+xml": "<?xml version=\"1.0\" encoding=\"utf-8\" standalone=\"no\"?>\r\n<!DOCTYPE svg PUBLIC \"-//W3C//DTD SVG 1.1//EN\"\r\n  \"http://www.w3.org/Graphics/SVG/1.1/DTD/svg11.dtd\">\r\n<!-- Created with matplotlib (https://matplotlib.org/) -->\r\n<svg height=\"248.518125pt\" version=\"1.1\" viewBox=\"0 0 372.103125 248.518125\" width=\"372.103125pt\" xmlns=\"http://www.w3.org/2000/svg\" xmlns:xlink=\"http://www.w3.org/1999/xlink\">\r\n <defs>\r\n  <style type=\"text/css\">\r\n*{stroke-linecap:butt;stroke-linejoin:round;}\r\n  </style>\r\n </defs>\r\n <g id=\"figure_1\">\r\n  <g id=\"patch_1\">\r\n   <path d=\"M 0 248.518125 \r\nL 372.103125 248.518125 \r\nL 372.103125 0 \r\nL 0 0 \r\nz\r\n\" style=\"fill:none;\"/>\r\n  </g>\r\n  <g id=\"axes_1\">\r\n   <g id=\"patch_2\">\r\n    <path d=\"M 30.103125 224.64 \r\nL 364.903125 224.64 \r\nL 364.903125 7.2 \r\nL 30.103125 7.2 \r\nz\r\n\" style=\"fill:#ffffff;\"/>\r\n   </g>\r\n   <g id=\"patch_3\">\r\n    <path clip-path=\"url(#pfe6015b1eb)\" d=\"M 45.321307 224.64 \r\nL 101.224832 224.64 \r\nL 101.224832 17.554286 \r\nL 45.321307 17.554286 \r\nz\r\n\" style=\"fill:#1f77b4;\"/>\r\n   </g>\r\n   <g id=\"patch_4\">\r\n    <path clip-path=\"url(#pfe6015b1eb)\" d=\"M 169.551362 224.64 \r\nL 225.454888 224.64 \r\nL 225.454888 21.354372 \r\nL 169.551362 21.354372 \r\nz\r\n\" style=\"fill:#ff7f0e;\"/>\r\n   </g>\r\n   <g id=\"patch_5\">\r\n    <path clip-path=\"url(#pfe6015b1eb)\" d=\"M 293.781418 224.64 \r\nL 349.684943 224.64 \r\nL 349.684943 18.038797 \r\nL 293.781418 18.038797 \r\nz\r\n\" style=\"fill:#2ca02c;\"/>\r\n   </g>\r\n   <g id=\"matplotlib.axis_1\">\r\n    <g id=\"xtick_1\">\r\n     <g id=\"line2d_1\">\r\n      <defs>\r\n       <path d=\"M 0 0 \r\nL 0 3.5 \r\n\" id=\"m6030e18a47\" style=\"stroke:#000000;stroke-width:0.8;\"/>\r\n      </defs>\r\n      <g>\r\n       <use style=\"stroke:#000000;stroke-width:0.8;\" x=\"73.273069\" xlink:href=\"#m6030e18a47\" y=\"224.64\"/>\r\n      </g>\r\n     </g>\r\n     <g id=\"text_1\">\r\n      <!-- SVM -->\r\n      <defs>\r\n       <path d=\"M 53.515625 70.515625 \r\nL 53.515625 60.890625 \r\nQ 47.90625 63.578125 42.921875 64.890625 \r\nQ 37.9375 66.21875 33.296875 66.21875 \r\nQ 25.25 66.21875 20.875 63.09375 \r\nQ 16.5 59.96875 16.5 54.203125 \r\nQ 16.5 49.359375 19.40625 46.890625 \r\nQ 22.3125 44.4375 30.421875 42.921875 \r\nL 36.375 41.703125 \r\nQ 47.40625 39.59375 52.65625 34.296875 \r\nQ 57.90625 29 57.90625 20.125 \r\nQ 57.90625 9.515625 50.796875 4.046875 \r\nQ 43.703125 -1.421875 29.984375 -1.421875 \r\nQ 24.8125 -1.421875 18.96875 -0.25 \r\nQ 13.140625 0.921875 6.890625 3.21875 \r\nL 6.890625 13.375 \r\nQ 12.890625 10.015625 18.65625 8.296875 \r\nQ 24.421875 6.59375 29.984375 6.59375 \r\nQ 38.421875 6.59375 43.015625 9.90625 \r\nQ 47.609375 13.234375 47.609375 19.390625 \r\nQ 47.609375 24.75 44.3125 27.78125 \r\nQ 41.015625 30.8125 33.5 32.328125 \r\nL 27.484375 33.5 \r\nQ 16.453125 35.6875 11.515625 40.375 \r\nQ 6.59375 45.0625 6.59375 53.421875 \r\nQ 6.59375 63.09375 13.40625 68.65625 \r\nQ 20.21875 74.21875 32.171875 74.21875 \r\nQ 37.3125 74.21875 42.625 73.28125 \r\nQ 47.953125 72.359375 53.515625 70.515625 \r\nz\r\n\" id=\"DejaVuSans-83\"/>\r\n       <path d=\"M 28.609375 0 \r\nL 0.78125 72.90625 \r\nL 11.078125 72.90625 \r\nL 34.1875 11.53125 \r\nL 57.328125 72.90625 \r\nL 67.578125 72.90625 \r\nL 39.796875 0 \r\nz\r\n\" id=\"DejaVuSans-86\"/>\r\n       <path d=\"M 9.8125 72.90625 \r\nL 24.515625 72.90625 \r\nL 43.109375 23.296875 \r\nL 61.8125 72.90625 \r\nL 76.515625 72.90625 \r\nL 76.515625 0 \r\nL 66.890625 0 \r\nL 66.890625 64.015625 \r\nL 48.09375 14.015625 \r\nL 38.1875 14.015625 \r\nL 19.390625 64.015625 \r\nL 19.390625 0 \r\nL 9.8125 0 \r\nz\r\n\" id=\"DejaVuSans-77\"/>\r\n      </defs>\r\n      <g transform=\"translate(62.364476 239.238437)scale(0.1 -0.1)\">\r\n       <use xlink:href=\"#DejaVuSans-83\"/>\r\n       <use x=\"63.476562\" xlink:href=\"#DejaVuSans-86\"/>\r\n       <use x=\"131.884766\" xlink:href=\"#DejaVuSans-77\"/>\r\n      </g>\r\n     </g>\r\n    </g>\r\n    <g id=\"xtick_2\">\r\n     <g id=\"line2d_2\">\r\n      <g>\r\n       <use style=\"stroke:#000000;stroke-width:0.8;\" x=\"197.503125\" xlink:href=\"#m6030e18a47\" y=\"224.64\"/>\r\n      </g>\r\n     </g>\r\n     <g id=\"text_2\">\r\n      <!-- Random Forest -->\r\n      <defs>\r\n       <path d=\"M 44.390625 34.1875 \r\nQ 47.5625 33.109375 50.5625 29.59375 \r\nQ 53.5625 26.078125 56.59375 19.921875 \r\nL 66.609375 0 \r\nL 56 0 \r\nL 46.6875 18.703125 \r\nQ 43.0625 26.03125 39.671875 28.421875 \r\nQ 36.28125 30.8125 30.421875 30.8125 \r\nL 19.671875 30.8125 \r\nL 19.671875 0 \r\nL 9.8125 0 \r\nL 9.8125 72.90625 \r\nL 32.078125 72.90625 \r\nQ 44.578125 72.90625 50.734375 67.671875 \r\nQ 56.890625 62.453125 56.890625 51.90625 \r\nQ 56.890625 45.015625 53.6875 40.46875 \r\nQ 50.484375 35.9375 44.390625 34.1875 \r\nz\r\nM 19.671875 64.796875 \r\nL 19.671875 38.921875 \r\nL 32.078125 38.921875 \r\nQ 39.203125 38.921875 42.84375 42.21875 \r\nQ 46.484375 45.515625 46.484375 51.90625 \r\nQ 46.484375 58.296875 42.84375 61.546875 \r\nQ 39.203125 64.796875 32.078125 64.796875 \r\nz\r\n\" id=\"DejaVuSans-82\"/>\r\n       <path d=\"M 34.28125 27.484375 \r\nQ 23.390625 27.484375 19.1875 25 \r\nQ 14.984375 22.515625 14.984375 16.5 \r\nQ 14.984375 11.71875 18.140625 8.90625 \r\nQ 21.296875 6.109375 26.703125 6.109375 \r\nQ 34.1875 6.109375 38.703125 11.40625 \r\nQ 43.21875 16.703125 43.21875 25.484375 \r\nL 43.21875 27.484375 \r\nz\r\nM 52.203125 31.203125 \r\nL 52.203125 0 \r\nL 43.21875 0 \r\nL 43.21875 8.296875 \r\nQ 40.140625 3.328125 35.546875 0.953125 \r\nQ 30.953125 -1.421875 24.3125 -1.421875 \r\nQ 15.921875 -1.421875 10.953125 3.296875 \r\nQ 6 8.015625 6 15.921875 \r\nQ 6 25.140625 12.171875 29.828125 \r\nQ 18.359375 34.515625 30.609375 34.515625 \r\nL 43.21875 34.515625 \r\nL 43.21875 35.40625 \r\nQ 43.21875 41.609375 39.140625 45 \r\nQ 35.0625 48.390625 27.6875 48.390625 \r\nQ 23 48.390625 18.546875 47.265625 \r\nQ 14.109375 46.140625 10.015625 43.890625 \r\nL 10.015625 52.203125 \r\nQ 14.9375 54.109375 19.578125 55.046875 \r\nQ 24.21875 56 28.609375 56 \r\nQ 40.484375 56 46.34375 49.84375 \r\nQ 52.203125 43.703125 52.203125 31.203125 \r\nz\r\n\" id=\"DejaVuSans-97\"/>\r\n       <path d=\"M 54.890625 33.015625 \r\nL 54.890625 0 \r\nL 45.90625 0 \r\nL 45.90625 32.71875 \r\nQ 45.90625 40.484375 42.875 44.328125 \r\nQ 39.84375 48.1875 33.796875 48.1875 \r\nQ 26.515625 48.1875 22.3125 43.546875 \r\nQ 18.109375 38.921875 18.109375 30.90625 \r\nL 18.109375 0 \r\nL 9.078125 0 \r\nL 9.078125 54.6875 \r\nL 18.109375 54.6875 \r\nL 18.109375 46.1875 \r\nQ 21.34375 51.125 25.703125 53.5625 \r\nQ 30.078125 56 35.796875 56 \r\nQ 45.21875 56 50.046875 50.171875 \r\nQ 54.890625 44.34375 54.890625 33.015625 \r\nz\r\n\" id=\"DejaVuSans-110\"/>\r\n       <path d=\"M 45.40625 46.390625 \r\nL 45.40625 75.984375 \r\nL 54.390625 75.984375 \r\nL 54.390625 0 \r\nL 45.40625 0 \r\nL 45.40625 8.203125 \r\nQ 42.578125 3.328125 38.25 0.953125 \r\nQ 33.9375 -1.421875 27.875 -1.421875 \r\nQ 17.96875 -1.421875 11.734375 6.484375 \r\nQ 5.515625 14.40625 5.515625 27.296875 \r\nQ 5.515625 40.1875 11.734375 48.09375 \r\nQ 17.96875 56 27.875 56 \r\nQ 33.9375 56 38.25 53.625 \r\nQ 42.578125 51.265625 45.40625 46.390625 \r\nz\r\nM 14.796875 27.296875 \r\nQ 14.796875 17.390625 18.875 11.75 \r\nQ 22.953125 6.109375 30.078125 6.109375 \r\nQ 37.203125 6.109375 41.296875 11.75 \r\nQ 45.40625 17.390625 45.40625 27.296875 \r\nQ 45.40625 37.203125 41.296875 42.84375 \r\nQ 37.203125 48.484375 30.078125 48.484375 \r\nQ 22.953125 48.484375 18.875 42.84375 \r\nQ 14.796875 37.203125 14.796875 27.296875 \r\nz\r\n\" id=\"DejaVuSans-100\"/>\r\n       <path d=\"M 30.609375 48.390625 \r\nQ 23.390625 48.390625 19.1875 42.75 \r\nQ 14.984375 37.109375 14.984375 27.296875 \r\nQ 14.984375 17.484375 19.15625 11.84375 \r\nQ 23.34375 6.203125 30.609375 6.203125 \r\nQ 37.796875 6.203125 41.984375 11.859375 \r\nQ 46.1875 17.53125 46.1875 27.296875 \r\nQ 46.1875 37.015625 41.984375 42.703125 \r\nQ 37.796875 48.390625 30.609375 48.390625 \r\nz\r\nM 30.609375 56 \r\nQ 42.328125 56 49.015625 48.375 \r\nQ 55.71875 40.765625 55.71875 27.296875 \r\nQ 55.71875 13.875 49.015625 6.21875 \r\nQ 42.328125 -1.421875 30.609375 -1.421875 \r\nQ 18.84375 -1.421875 12.171875 6.21875 \r\nQ 5.515625 13.875 5.515625 27.296875 \r\nQ 5.515625 40.765625 12.171875 48.375 \r\nQ 18.84375 56 30.609375 56 \r\nz\r\n\" id=\"DejaVuSans-111\"/>\r\n       <path d=\"M 52 44.1875 \r\nQ 55.375 50.25 60.0625 53.125 \r\nQ 64.75 56 71.09375 56 \r\nQ 79.640625 56 84.28125 50.015625 \r\nQ 88.921875 44.046875 88.921875 33.015625 \r\nL 88.921875 0 \r\nL 79.890625 0 \r\nL 79.890625 32.71875 \r\nQ 79.890625 40.578125 77.09375 44.375 \r\nQ 74.3125 48.1875 68.609375 48.1875 \r\nQ 61.625 48.1875 57.5625 43.546875 \r\nQ 53.515625 38.921875 53.515625 30.90625 \r\nL 53.515625 0 \r\nL 44.484375 0 \r\nL 44.484375 32.71875 \r\nQ 44.484375 40.625 41.703125 44.40625 \r\nQ 38.921875 48.1875 33.109375 48.1875 \r\nQ 26.21875 48.1875 22.15625 43.53125 \r\nQ 18.109375 38.875 18.109375 30.90625 \r\nL 18.109375 0 \r\nL 9.078125 0 \r\nL 9.078125 54.6875 \r\nL 18.109375 54.6875 \r\nL 18.109375 46.1875 \r\nQ 21.1875 51.21875 25.484375 53.609375 \r\nQ 29.78125 56 35.6875 56 \r\nQ 41.65625 56 45.828125 52.96875 \r\nQ 50 49.953125 52 44.1875 \r\nz\r\n\" id=\"DejaVuSans-109\"/>\r\n       <path id=\"DejaVuSans-32\"/>\r\n       <path d=\"M 9.8125 72.90625 \r\nL 51.703125 72.90625 \r\nL 51.703125 64.59375 \r\nL 19.671875 64.59375 \r\nL 19.671875 43.109375 \r\nL 48.578125 43.109375 \r\nL 48.578125 34.8125 \r\nL 19.671875 34.8125 \r\nL 19.671875 0 \r\nL 9.8125 0 \r\nz\r\n\" id=\"DejaVuSans-70\"/>\r\n       <path d=\"M 41.109375 46.296875 \r\nQ 39.59375 47.171875 37.8125 47.578125 \r\nQ 36.03125 48 33.890625 48 \r\nQ 26.265625 48 22.1875 43.046875 \r\nQ 18.109375 38.09375 18.109375 28.8125 \r\nL 18.109375 0 \r\nL 9.078125 0 \r\nL 9.078125 54.6875 \r\nL 18.109375 54.6875 \r\nL 18.109375 46.1875 \r\nQ 20.953125 51.171875 25.484375 53.578125 \r\nQ 30.03125 56 36.53125 56 \r\nQ 37.453125 56 38.578125 55.875 \r\nQ 39.703125 55.765625 41.0625 55.515625 \r\nz\r\n\" id=\"DejaVuSans-114\"/>\r\n       <path d=\"M 56.203125 29.59375 \r\nL 56.203125 25.203125 \r\nL 14.890625 25.203125 \r\nQ 15.484375 15.921875 20.484375 11.0625 \r\nQ 25.484375 6.203125 34.421875 6.203125 \r\nQ 39.59375 6.203125 44.453125 7.46875 \r\nQ 49.3125 8.734375 54.109375 11.28125 \r\nL 54.109375 2.78125 \r\nQ 49.265625 0.734375 44.1875 -0.34375 \r\nQ 39.109375 -1.421875 33.890625 -1.421875 \r\nQ 20.796875 -1.421875 13.15625 6.1875 \r\nQ 5.515625 13.8125 5.515625 26.8125 \r\nQ 5.515625 40.234375 12.765625 48.109375 \r\nQ 20.015625 56 32.328125 56 \r\nQ 43.359375 56 49.78125 48.890625 \r\nQ 56.203125 41.796875 56.203125 29.59375 \r\nz\r\nM 47.21875 32.234375 \r\nQ 47.125 39.59375 43.09375 43.984375 \r\nQ 39.0625 48.390625 32.421875 48.390625 \r\nQ 24.90625 48.390625 20.390625 44.140625 \r\nQ 15.875 39.890625 15.1875 32.171875 \r\nz\r\n\" id=\"DejaVuSans-101\"/>\r\n       <path d=\"M 44.28125 53.078125 \r\nL 44.28125 44.578125 \r\nQ 40.484375 46.53125 36.375 47.5 \r\nQ 32.28125 48.484375 27.875 48.484375 \r\nQ 21.1875 48.484375 17.84375 46.4375 \r\nQ 14.5 44.390625 14.5 40.28125 \r\nQ 14.5 37.15625 16.890625 35.375 \r\nQ 19.28125 33.59375 26.515625 31.984375 \r\nL 29.59375 31.296875 \r\nQ 39.15625 29.25 43.1875 25.515625 \r\nQ 47.21875 21.78125 47.21875 15.09375 \r\nQ 47.21875 7.46875 41.1875 3.015625 \r\nQ 35.15625 -1.421875 24.609375 -1.421875 \r\nQ 20.21875 -1.421875 15.453125 -0.5625 \r\nQ 10.6875 0.296875 5.421875 2 \r\nL 5.421875 11.28125 \r\nQ 10.40625 8.6875 15.234375 7.390625 \r\nQ 20.0625 6.109375 24.8125 6.109375 \r\nQ 31.15625 6.109375 34.5625 8.28125 \r\nQ 37.984375 10.453125 37.984375 14.40625 \r\nQ 37.984375 18.0625 35.515625 20.015625 \r\nQ 33.0625 21.96875 24.703125 23.78125 \r\nL 21.578125 24.515625 \r\nQ 13.234375 26.265625 9.515625 29.90625 \r\nQ 5.8125 33.546875 5.8125 39.890625 \r\nQ 5.8125 47.609375 11.28125 51.796875 \r\nQ 16.75 56 26.8125 56 \r\nQ 31.78125 56 36.171875 55.265625 \r\nQ 40.578125 54.546875 44.28125 53.078125 \r\nz\r\n\" id=\"DejaVuSans-115\"/>\r\n       <path d=\"M 18.3125 70.21875 \r\nL 18.3125 54.6875 \r\nL 36.8125 54.6875 \r\nL 36.8125 47.703125 \r\nL 18.3125 47.703125 \r\nL 18.3125 18.015625 \r\nQ 18.3125 11.328125 20.140625 9.421875 \r\nQ 21.96875 7.515625 27.59375 7.515625 \r\nL 36.8125 7.515625 \r\nL 36.8125 0 \r\nL 27.59375 0 \r\nQ 17.1875 0 13.234375 3.875 \r\nQ 9.28125 7.765625 9.28125 18.015625 \r\nL 9.28125 47.703125 \r\nL 2.6875 47.703125 \r\nL 2.6875 54.6875 \r\nL 9.28125 54.6875 \r\nL 9.28125 70.21875 \r\nz\r\n\" id=\"DejaVuSans-116\"/>\r\n      </defs>\r\n      <g transform=\"translate(159.476562 239.238437)scale(0.1 -0.1)\">\r\n       <use xlink:href=\"#DejaVuSans-82\"/>\r\n       <use x=\"69.451172\" xlink:href=\"#DejaVuSans-97\"/>\r\n       <use x=\"130.730469\" xlink:href=\"#DejaVuSans-110\"/>\r\n       <use x=\"194.109375\" xlink:href=\"#DejaVuSans-100\"/>\r\n       <use x=\"257.585938\" xlink:href=\"#DejaVuSans-111\"/>\r\n       <use x=\"318.767578\" xlink:href=\"#DejaVuSans-109\"/>\r\n       <use x=\"416.179688\" xlink:href=\"#DejaVuSans-32\"/>\r\n       <use x=\"447.966797\" xlink:href=\"#DejaVuSans-70\"/>\r\n       <use x=\"505.439453\" xlink:href=\"#DejaVuSans-111\"/>\r\n       <use x=\"566.621094\" xlink:href=\"#DejaVuSans-114\"/>\r\n       <use x=\"607.703125\" xlink:href=\"#DejaVuSans-101\"/>\r\n       <use x=\"669.226562\" xlink:href=\"#DejaVuSans-115\"/>\r\n       <use x=\"721.326172\" xlink:href=\"#DejaVuSans-116\"/>\r\n      </g>\r\n     </g>\r\n    </g>\r\n    <g id=\"xtick_3\">\r\n     <g id=\"line2d_3\">\r\n      <g>\r\n       <use style=\"stroke:#000000;stroke-width:0.8;\" x=\"321.733181\" xlink:href=\"#m6030e18a47\" y=\"224.64\"/>\r\n      </g>\r\n     </g>\r\n     <g id=\"text_3\">\r\n      <!-- XGboost -->\r\n      <defs>\r\n       <path d=\"M 6.296875 72.90625 \r\nL 16.890625 72.90625 \r\nL 35.015625 45.796875 \r\nL 53.21875 72.90625 \r\nL 63.8125 72.90625 \r\nL 40.375 37.890625 \r\nL 65.375 0 \r\nL 54.78125 0 \r\nL 34.28125 31 \r\nL 13.625 0 \r\nL 2.984375 0 \r\nL 29 38.921875 \r\nz\r\n\" id=\"DejaVuSans-88\"/>\r\n       <path d=\"M 59.515625 10.40625 \r\nL 59.515625 29.984375 \r\nL 43.40625 29.984375 \r\nL 43.40625 38.09375 \r\nL 69.28125 38.09375 \r\nL 69.28125 6.78125 \r\nQ 63.578125 2.734375 56.6875 0.65625 \r\nQ 49.8125 -1.421875 42 -1.421875 \r\nQ 24.90625 -1.421875 15.25 8.5625 \r\nQ 5.609375 18.5625 5.609375 36.375 \r\nQ 5.609375 54.25 15.25 64.234375 \r\nQ 24.90625 74.21875 42 74.21875 \r\nQ 49.125 74.21875 55.546875 72.453125 \r\nQ 61.96875 70.703125 67.390625 67.28125 \r\nL 67.390625 56.78125 \r\nQ 61.921875 61.421875 55.765625 63.765625 \r\nQ 49.609375 66.109375 42.828125 66.109375 \r\nQ 29.4375 66.109375 22.71875 58.640625 \r\nQ 16.015625 51.171875 16.015625 36.375 \r\nQ 16.015625 21.625 22.71875 14.15625 \r\nQ 29.4375 6.6875 42.828125 6.6875 \r\nQ 48.046875 6.6875 52.140625 7.59375 \r\nQ 56.25 8.5 59.515625 10.40625 \r\nz\r\n\" id=\"DejaVuSans-71\"/>\r\n       <path d=\"M 48.6875 27.296875 \r\nQ 48.6875 37.203125 44.609375 42.84375 \r\nQ 40.53125 48.484375 33.40625 48.484375 \r\nQ 26.265625 48.484375 22.1875 42.84375 \r\nQ 18.109375 37.203125 18.109375 27.296875 \r\nQ 18.109375 17.390625 22.1875 11.75 \r\nQ 26.265625 6.109375 33.40625 6.109375 \r\nQ 40.53125 6.109375 44.609375 11.75 \r\nQ 48.6875 17.390625 48.6875 27.296875 \r\nz\r\nM 18.109375 46.390625 \r\nQ 20.953125 51.265625 25.265625 53.625 \r\nQ 29.59375 56 35.59375 56 \r\nQ 45.5625 56 51.78125 48.09375 \r\nQ 58.015625 40.1875 58.015625 27.296875 \r\nQ 58.015625 14.40625 51.78125 6.484375 \r\nQ 45.5625 -1.421875 35.59375 -1.421875 \r\nQ 29.59375 -1.421875 25.265625 0.953125 \r\nQ 20.953125 3.328125 18.109375 8.203125 \r\nL 18.109375 0 \r\nL 9.078125 0 \r\nL 9.078125 75.984375 \r\nL 18.109375 75.984375 \r\nz\r\n\" id=\"DejaVuSans-98\"/>\r\n      </defs>\r\n      <g transform=\"translate(300.576149 239.238437)scale(0.1 -0.1)\">\r\n       <use xlink:href=\"#DejaVuSans-88\"/>\r\n       <use x=\"68.505859\" xlink:href=\"#DejaVuSans-71\"/>\r\n       <use x=\"145.996094\" xlink:href=\"#DejaVuSans-98\"/>\r\n       <use x=\"209.472656\" xlink:href=\"#DejaVuSans-111\"/>\r\n       <use x=\"270.654297\" xlink:href=\"#DejaVuSans-111\"/>\r\n       <use x=\"331.835938\" xlink:href=\"#DejaVuSans-115\"/>\r\n       <use x=\"383.935547\" xlink:href=\"#DejaVuSans-116\"/>\r\n      </g>\r\n     </g>\r\n    </g>\r\n   </g>\r\n   <g id=\"matplotlib.axis_2\">\r\n    <g id=\"ytick_1\">\r\n     <g id=\"line2d_4\">\r\n      <defs>\r\n       <path d=\"M 0 0 \r\nL -3.5 0 \r\n\" id=\"me0b6942d4f\" style=\"stroke:#000000;stroke-width:0.8;\"/>\r\n      </defs>\r\n      <g>\r\n       <use style=\"stroke:#000000;stroke-width:0.8;\" x=\"30.103125\" xlink:href=\"#me0b6942d4f\" y=\"224.64\"/>\r\n      </g>\r\n     </g>\r\n     <g id=\"text_4\">\r\n      <!-- 0.0 -->\r\n      <defs>\r\n       <path d=\"M 31.78125 66.40625 \r\nQ 24.171875 66.40625 20.328125 58.90625 \r\nQ 16.5 51.421875 16.5 36.375 \r\nQ 16.5 21.390625 20.328125 13.890625 \r\nQ 24.171875 6.390625 31.78125 6.390625 \r\nQ 39.453125 6.390625 43.28125 13.890625 \r\nQ 47.125 21.390625 47.125 36.375 \r\nQ 47.125 51.421875 43.28125 58.90625 \r\nQ 39.453125 66.40625 31.78125 66.40625 \r\nz\r\nM 31.78125 74.21875 \r\nQ 44.046875 74.21875 50.515625 64.515625 \r\nQ 56.984375 54.828125 56.984375 36.375 \r\nQ 56.984375 17.96875 50.515625 8.265625 \r\nQ 44.046875 -1.421875 31.78125 -1.421875 \r\nQ 19.53125 -1.421875 13.0625 8.265625 \r\nQ 6.59375 17.96875 6.59375 36.375 \r\nQ 6.59375 54.828125 13.0625 64.515625 \r\nQ 19.53125 74.21875 31.78125 74.21875 \r\nz\r\n\" id=\"DejaVuSans-48\"/>\r\n       <path d=\"M 10.6875 12.40625 \r\nL 21 12.40625 \r\nL 21 0 \r\nL 10.6875 0 \r\nz\r\n\" id=\"DejaVuSans-46\"/>\r\n      </defs>\r\n      <g transform=\"translate(7.2 228.439219)scale(0.1 -0.1)\">\r\n       <use xlink:href=\"#DejaVuSans-48\"/>\r\n       <use x=\"63.623047\" xlink:href=\"#DejaVuSans-46\"/>\r\n       <use x=\"95.410156\" xlink:href=\"#DejaVuSans-48\"/>\r\n      </g>\r\n     </g>\r\n    </g>\r\n    <g id=\"ytick_2\">\r\n     <g id=\"line2d_5\">\r\n      <g>\r\n       <use style=\"stroke:#000000;stroke-width:0.8;\" x=\"30.103125\" xlink:href=\"#me0b6942d4f\" y=\"182.073331\"/>\r\n      </g>\r\n     </g>\r\n     <g id=\"text_5\">\r\n      <!-- 0.2 -->\r\n      <defs>\r\n       <path d=\"M 19.1875 8.296875 \r\nL 53.609375 8.296875 \r\nL 53.609375 0 \r\nL 7.328125 0 \r\nL 7.328125 8.296875 \r\nQ 12.9375 14.109375 22.625 23.890625 \r\nQ 32.328125 33.6875 34.8125 36.53125 \r\nQ 39.546875 41.84375 41.421875 45.53125 \r\nQ 43.3125 49.21875 43.3125 52.78125 \r\nQ 43.3125 58.59375 39.234375 62.25 \r\nQ 35.15625 65.921875 28.609375 65.921875 \r\nQ 23.96875 65.921875 18.8125 64.3125 \r\nQ 13.671875 62.703125 7.8125 59.421875 \r\nL 7.8125 69.390625 \r\nQ 13.765625 71.78125 18.9375 73 \r\nQ 24.125 74.21875 28.421875 74.21875 \r\nQ 39.75 74.21875 46.484375 68.546875 \r\nQ 53.21875 62.890625 53.21875 53.421875 \r\nQ 53.21875 48.921875 51.53125 44.890625 \r\nQ 49.859375 40.875 45.40625 35.40625 \r\nQ 44.1875 33.984375 37.640625 27.21875 \r\nQ 31.109375 20.453125 19.1875 8.296875 \r\nz\r\n\" id=\"DejaVuSans-50\"/>\r\n      </defs>\r\n      <g transform=\"translate(7.2 185.87255)scale(0.1 -0.1)\">\r\n       <use xlink:href=\"#DejaVuSans-48\"/>\r\n       <use x=\"63.623047\" xlink:href=\"#DejaVuSans-46\"/>\r\n       <use x=\"95.410156\" xlink:href=\"#DejaVuSans-50\"/>\r\n      </g>\r\n     </g>\r\n    </g>\r\n    <g id=\"ytick_3\">\r\n     <g id=\"line2d_6\">\r\n      <g>\r\n       <use style=\"stroke:#000000;stroke-width:0.8;\" x=\"30.103125\" xlink:href=\"#me0b6942d4f\" y=\"139.506662\"/>\r\n      </g>\r\n     </g>\r\n     <g id=\"text_6\">\r\n      <!-- 0.4 -->\r\n      <defs>\r\n       <path d=\"M 37.796875 64.3125 \r\nL 12.890625 25.390625 \r\nL 37.796875 25.390625 \r\nz\r\nM 35.203125 72.90625 \r\nL 47.609375 72.90625 \r\nL 47.609375 25.390625 \r\nL 58.015625 25.390625 \r\nL 58.015625 17.1875 \r\nL 47.609375 17.1875 \r\nL 47.609375 0 \r\nL 37.796875 0 \r\nL 37.796875 17.1875 \r\nL 4.890625 17.1875 \r\nL 4.890625 26.703125 \r\nz\r\n\" id=\"DejaVuSans-52\"/>\r\n      </defs>\r\n      <g transform=\"translate(7.2 143.305881)scale(0.1 -0.1)\">\r\n       <use xlink:href=\"#DejaVuSans-48\"/>\r\n       <use x=\"63.623047\" xlink:href=\"#DejaVuSans-46\"/>\r\n       <use x=\"95.410156\" xlink:href=\"#DejaVuSans-52\"/>\r\n      </g>\r\n     </g>\r\n    </g>\r\n    <g id=\"ytick_4\">\r\n     <g id=\"line2d_7\">\r\n      <g>\r\n       <use style=\"stroke:#000000;stroke-width:0.8;\" x=\"30.103125\" xlink:href=\"#me0b6942d4f\" y=\"96.939993\"/>\r\n      </g>\r\n     </g>\r\n     <g id=\"text_7\">\r\n      <!-- 0.6 -->\r\n      <defs>\r\n       <path d=\"M 33.015625 40.375 \r\nQ 26.375 40.375 22.484375 35.828125 \r\nQ 18.609375 31.296875 18.609375 23.390625 \r\nQ 18.609375 15.53125 22.484375 10.953125 \r\nQ 26.375 6.390625 33.015625 6.390625 \r\nQ 39.65625 6.390625 43.53125 10.953125 \r\nQ 47.40625 15.53125 47.40625 23.390625 \r\nQ 47.40625 31.296875 43.53125 35.828125 \r\nQ 39.65625 40.375 33.015625 40.375 \r\nz\r\nM 52.59375 71.296875 \r\nL 52.59375 62.3125 \r\nQ 48.875 64.0625 45.09375 64.984375 \r\nQ 41.3125 65.921875 37.59375 65.921875 \r\nQ 27.828125 65.921875 22.671875 59.328125 \r\nQ 17.53125 52.734375 16.796875 39.40625 \r\nQ 19.671875 43.65625 24.015625 45.921875 \r\nQ 28.375 48.1875 33.59375 48.1875 \r\nQ 44.578125 48.1875 50.953125 41.515625 \r\nQ 57.328125 34.859375 57.328125 23.390625 \r\nQ 57.328125 12.15625 50.6875 5.359375 \r\nQ 44.046875 -1.421875 33.015625 -1.421875 \r\nQ 20.359375 -1.421875 13.671875 8.265625 \r\nQ 6.984375 17.96875 6.984375 36.375 \r\nQ 6.984375 53.65625 15.1875 63.9375 \r\nQ 23.390625 74.21875 37.203125 74.21875 \r\nQ 40.921875 74.21875 44.703125 73.484375 \r\nQ 48.484375 72.75 52.59375 71.296875 \r\nz\r\n\" id=\"DejaVuSans-54\"/>\r\n      </defs>\r\n      <g transform=\"translate(7.2 100.739212)scale(0.1 -0.1)\">\r\n       <use xlink:href=\"#DejaVuSans-48\"/>\r\n       <use x=\"63.623047\" xlink:href=\"#DejaVuSans-46\"/>\r\n       <use x=\"95.410156\" xlink:href=\"#DejaVuSans-54\"/>\r\n      </g>\r\n     </g>\r\n    </g>\r\n    <g id=\"ytick_5\">\r\n     <g id=\"line2d_8\">\r\n      <g>\r\n       <use style=\"stroke:#000000;stroke-width:0.8;\" x=\"30.103125\" xlink:href=\"#me0b6942d4f\" y=\"54.373324\"/>\r\n      </g>\r\n     </g>\r\n     <g id=\"text_8\">\r\n      <!-- 0.8 -->\r\n      <defs>\r\n       <path d=\"M 31.78125 34.625 \r\nQ 24.75 34.625 20.71875 30.859375 \r\nQ 16.703125 27.09375 16.703125 20.515625 \r\nQ 16.703125 13.921875 20.71875 10.15625 \r\nQ 24.75 6.390625 31.78125 6.390625 \r\nQ 38.8125 6.390625 42.859375 10.171875 \r\nQ 46.921875 13.96875 46.921875 20.515625 \r\nQ 46.921875 27.09375 42.890625 30.859375 \r\nQ 38.875 34.625 31.78125 34.625 \r\nz\r\nM 21.921875 38.8125 \r\nQ 15.578125 40.375 12.03125 44.71875 \r\nQ 8.5 49.078125 8.5 55.328125 \r\nQ 8.5 64.0625 14.71875 69.140625 \r\nQ 20.953125 74.21875 31.78125 74.21875 \r\nQ 42.671875 74.21875 48.875 69.140625 \r\nQ 55.078125 64.0625 55.078125 55.328125 \r\nQ 55.078125 49.078125 51.53125 44.71875 \r\nQ 48 40.375 41.703125 38.8125 \r\nQ 48.828125 37.15625 52.796875 32.3125 \r\nQ 56.78125 27.484375 56.78125 20.515625 \r\nQ 56.78125 9.90625 50.3125 4.234375 \r\nQ 43.84375 -1.421875 31.78125 -1.421875 \r\nQ 19.734375 -1.421875 13.25 4.234375 \r\nQ 6.78125 9.90625 6.78125 20.515625 \r\nQ 6.78125 27.484375 10.78125 32.3125 \r\nQ 14.796875 37.15625 21.921875 38.8125 \r\nz\r\nM 18.3125 54.390625 \r\nQ 18.3125 48.734375 21.84375 45.5625 \r\nQ 25.390625 42.390625 31.78125 42.390625 \r\nQ 38.140625 42.390625 41.71875 45.5625 \r\nQ 45.3125 48.734375 45.3125 54.390625 \r\nQ 45.3125 60.0625 41.71875 63.234375 \r\nQ 38.140625 66.40625 31.78125 66.40625 \r\nQ 25.390625 66.40625 21.84375 63.234375 \r\nQ 18.3125 60.0625 18.3125 54.390625 \r\nz\r\n\" id=\"DejaVuSans-56\"/>\r\n      </defs>\r\n      <g transform=\"translate(7.2 58.172543)scale(0.1 -0.1)\">\r\n       <use xlink:href=\"#DejaVuSans-48\"/>\r\n       <use x=\"63.623047\" xlink:href=\"#DejaVuSans-46\"/>\r\n       <use x=\"95.410156\" xlink:href=\"#DejaVuSans-56\"/>\r\n      </g>\r\n     </g>\r\n    </g>\r\n    <g id=\"ytick_6\">\r\n     <g id=\"line2d_9\">\r\n      <g>\r\n       <use style=\"stroke:#000000;stroke-width:0.8;\" x=\"30.103125\" xlink:href=\"#me0b6942d4f\" y=\"11.806655\"/>\r\n      </g>\r\n     </g>\r\n     <g id=\"text_9\">\r\n      <!-- 1.0 -->\r\n      <defs>\r\n       <path d=\"M 12.40625 8.296875 \r\nL 28.515625 8.296875 \r\nL 28.515625 63.921875 \r\nL 10.984375 60.40625 \r\nL 10.984375 69.390625 \r\nL 28.421875 72.90625 \r\nL 38.28125 72.90625 \r\nL 38.28125 8.296875 \r\nL 54.390625 8.296875 \r\nL 54.390625 0 \r\nL 12.40625 0 \r\nz\r\n\" id=\"DejaVuSans-49\"/>\r\n      </defs>\r\n      <g transform=\"translate(7.2 15.605874)scale(0.1 -0.1)\">\r\n       <use xlink:href=\"#DejaVuSans-49\"/>\r\n       <use x=\"63.623047\" xlink:href=\"#DejaVuSans-46\"/>\r\n       <use x=\"95.410156\" xlink:href=\"#DejaVuSans-48\"/>\r\n      </g>\r\n     </g>\r\n    </g>\r\n   </g>\r\n   <g id=\"patch_6\">\r\n    <path d=\"M 30.103125 224.64 \r\nL 30.103125 7.2 \r\n\" style=\"fill:none;stroke:#000000;stroke-linecap:square;stroke-linejoin:miter;stroke-width:0.8;\"/>\r\n   </g>\r\n   <g id=\"patch_7\">\r\n    <path d=\"M 364.903125 224.64 \r\nL 364.903125 7.2 \r\n\" style=\"fill:none;stroke:#000000;stroke-linecap:square;stroke-linejoin:miter;stroke-width:0.8;\"/>\r\n   </g>\r\n   <g id=\"patch_8\">\r\n    <path d=\"M 30.103125 224.64 \r\nL 364.903125 224.64 \r\n\" style=\"fill:none;stroke:#000000;stroke-linecap:square;stroke-linejoin:miter;stroke-width:0.8;\"/>\r\n   </g>\r\n   <g id=\"patch_9\">\r\n    <path d=\"M 30.103125 7.2 \r\nL 364.903125 7.2 \r\n\" style=\"fill:none;stroke:#000000;stroke-linecap:square;stroke-linejoin:miter;stroke-width:0.8;\"/>\r\n   </g>\r\n  </g>\r\n </g>\r\n <defs>\r\n  <clipPath id=\"pfe6015b1eb\">\r\n   <rect height=\"217.44\" width=\"334.8\" x=\"30.103125\" y=\"7.2\"/>\r\n  </clipPath>\r\n </defs>\r\n</svg>\r\n",
      "image/png": "[encoded data removed]"
     },
     "metadata": {
      "needs_background": "light"
     }
    }
   ],
   "source": [
    "import matplotlib.pyplot as plt\n",
    "plt.bar('SVM', svmscore, 0.45, label=\"num\",)\n",
    "plt.bar('Random Forest',rndscore, 0.45, label=\"num\",)\n",
    "plt.bar('XGboost', xgscore, 0.45, label=\"num\")\n",
    "plt.show()"
   ]
  },
  {
   "cell_type": "markdown",
   "metadata": {},
   "source": [
    "总结：\n",
    "\n",
    "1. model训练速度，XGboost > SVM > Random Forest\n",
    "\n",
    "2. 预测速度，XGboost > Random Forest > SVM"
   ]
  }
 ],
 "metadata": {
  "kernelspec": {
   "display_name": "Python 3",
   "language": "python",
   "name": "python3"
  },
  "language_info": {
   "codemirror_mode": {
    "name": "ipython",
    "version": 3
   },
   "file_extension": ".py",
   "mimetype": "text/x-python",
   "name": "python",
   "nbconvert_exporter": "python",
   "pygments_lexer": "ipython3",
   "version": "3.7.6-final"
  }
 },
 "nbformat": 4,
 "nbformat_minor": 2
}