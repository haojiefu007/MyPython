{
 "nbformat": 4,
 "nbformat_minor": 2,
 "metadata": {
  "language_info": {
   "name": "python",
   "codemirror_mode": {
    "name": "ipython",
    "version": 3
   },
   "version": "3.7.6-final"
  },
  "orig_nbformat": 2,
  "file_extension": ".py",
  "mimetype": "text/x-python",
  "name": "python",
  "npconvert_exporter": "python",
  "pygments_lexer": "ipython3",
  "version": 3,
  "kernelspec": {
   "name": "python37664bit40dc0dc0f4f8425f82bc2b10d91bf305",
   "display_name": "Python 3.7.6 64-bit"
  }
 },
 "cells": [
  {
   "cell_type": "markdown",
   "metadata": {},
   "source": [
    "# Assignment 10"
   ]
  },
  {
   "cell_type": "markdown",
   "metadata": {},
   "source": [
    "## 1.Edit Distance"
   ]
  },
  {
   "cell_type": "code",
   "execution_count": 1,
   "metadata": {},
   "outputs": [],
   "source": [
    "solution = {}"
   ]
  },
  {
   "cell_type": "code",
   "execution_count": 2,
   "metadata": {},
   "outputs": [],
   "source": [
    "from functools import lru_cache"
   ]
  },
  {
   "cell_type": "code",
   "execution_count": 3,
   "metadata": {},
   "outputs": [],
   "source": [
    "#把s1的值变成和s2值一样\n",
    "@lru_cache(maxsize=2**50)\n",
    "def edit_distance(string1, string2):\n",
    "\n",
    "    #修复了某个字符串为0后，没有添加解决方案直接返回的bug\n",
    "    if len(string1) == 0:#添加string1为0时的解决方案，添加string1\n",
    "        str2 = string2\n",
    "        while(True):\n",
    "            if len(str2) == 0:\n",
    "                solution[(string1, str2)] = ''\n",
    "                break\n",
    "            if (string1, str2) not in solution:\n",
    "                solution[(string1, str2)] = 'ADD {}'.format(str2[-1])\n",
    "            str2 = str2[:-1]\n",
    "        return len(string2)#删除s2的字母\n",
    "    if len(string2) == 0:#添加string2为0时的解决方案，删除string1\n",
    "        str1 = string1\n",
    "        while(True):\n",
    "            if (len(str1) == 0):\n",
    "                solution[(str1, string2)] = ''\n",
    "                break\n",
    "            if (str1, string2) not in solution:\n",
    "                solution[(str1, string2)] = 'DEL {}'.format(str1[-1])\n",
    "            str1 = str1[:-1]\n",
    "        return len(string1)#添加s1的字母\n",
    "    \n",
    "    tail_s1 = string1[-1]\n",
    "    tail_s2 = string2[-1]\n",
    "    \n",
    "    candidates = [\n",
    "        (edit_distance(string1[:-1], string2) + 1, 'DEL {}'.format(tail_s1)),  \n",
    "        # string 1 delete tail\n",
    "        (edit_distance(string1, string2[:-1]) + 1, 'ADD {}'.format(tail_s2)),  \n",
    "        # string 1 add tail of string2\n",
    "    ]\n",
    "    \n",
    "    if tail_s1 == tail_s2:\n",
    "        both_forward = (edit_distance(string1[:-1], string2[:-1]) + 0, '')\n",
    "    else:\n",
    "        both_forward = (edit_distance(string1[:-1], string2[:-1]) + 1, 'SUB {} => {}'.format(tail_s1, tail_s2))\n",
    "\n",
    "    candidates.append(both_forward)\n",
    "    \n",
    "    min_distance, operation = min(candidates, key=lambda x: x[0])\n",
    "    \n",
    "    solution[(string1, string2)] = operation \n",
    "    \n",
    "    return min_distance"
   ]
  },
  {
   "cell_type": "code",
   "execution_count": 4,
   "metadata": {},
   "outputs": [
    {
     "output_type": "execute_result",
     "data": {
      "text/plain": "3"
     },
     "metadata": {},
     "execution_count": 4
    }
   ],
   "source": [
    "edit_distance('ABCDECG','ABCCEF')"
   ]
  },
  {
   "cell_type": "code",
   "execution_count": 5,
   "metadata": {},
   "outputs": [
    {
     "output_type": "execute_result",
     "data": {
      "text/plain": "{('', 'ABCCEF'): 'ADD F',\n ('', 'ABCCE'): 'ADD E',\n ('', 'ABCC'): 'ADD C',\n ('', 'ABC'): 'ADD C',\n ('', 'AB'): 'ADD B',\n ('', 'A'): 'ADD A',\n ('', ''): '',\n ('A', ''): 'DEL A',\n ('A', 'A'): '',\n ('A', 'AB'): 'ADD B',\n ('A', 'ABC'): 'ADD C',\n ('A', 'ABCC'): 'ADD C',\n ('A', 'ABCCE'): 'ADD E',\n ('A', 'ABCCEF'): 'ADD F',\n ('AB', ''): 'DEL B',\n ('AB', 'A'): 'DEL B',\n ('AB', 'AB'): '',\n ('AB', 'ABC'): 'ADD C',\n ('AB', 'ABCC'): 'ADD C',\n ('AB', 'ABCCE'): 'ADD E',\n ('AB', 'ABCCEF'): 'ADD F',\n ('ABC', ''): 'DEL C',\n ('ABC', 'A'): 'DEL C',\n ('ABC', 'AB'): 'DEL C',\n ('ABC', 'ABC'): '',\n ('ABC', 'ABCC'): 'ADD C',\n ('ABC', 'ABCCE'): 'ADD E',\n ('ABC', 'ABCCEF'): 'ADD F',\n ('ABCD', ''): 'DEL D',\n ('ABCD', 'A'): 'DEL D',\n ('ABCD', 'AB'): 'DEL D',\n ('ABCD', 'ABC'): 'DEL D',\n ('ABCD', 'ABCC'): 'SUB D => C',\n ('ABCD', 'ABCCE'): 'ADD E',\n ('ABCD', 'ABCCEF'): 'ADD F',\n ('ABCDE', ''): 'DEL E',\n ('ABCDE', 'A'): 'DEL E',\n ('ABCDE', 'AB'): 'DEL E',\n ('ABCDE', 'ABC'): 'DEL E',\n ('ABCDE', 'ABCC'): 'DEL E',\n ('ABCDE', 'ABCCE'): '',\n ('ABCDE', 'ABCCEF'): 'ADD F',\n ('ABCDEC', ''): 'DEL C',\n ('ABCDEC', 'A'): 'DEL C',\n ('ABCDEC', 'AB'): 'DEL C',\n ('ABCDEC', 'ABC'): 'DEL C',\n ('ABCDEC', 'ABCC'): '',\n ('ABCDEC', 'ABCCE'): 'DEL C',\n ('ABCDEC', 'ABCCEF'): 'SUB C => F',\n ('ABCDECG', ''): 'DEL G',\n ('ABCDECG', 'A'): 'DEL G',\n ('ABCDECG', 'AB'): 'DEL G',\n ('ABCDECG', 'ABC'): 'DEL G',\n ('ABCDECG', 'ABCC'): 'DEL G',\n ('ABCDECG', 'ABCCE'): 'DEL G',\n ('ABCDECG', 'ABCCEF'): 'DEL G'}"
     },
     "metadata": {},
     "execution_count": 5
    }
   ],
   "source": [
    "solution"
   ]
  },
  {
   "cell_type": "code",
   "execution_count": 6,
   "metadata": {},
   "outputs": [],
   "source": [
    "def parse_solution(str1,str2):\n",
    "    #print('str1:{}'.format(str1))\n",
    "    #print('str2:{}'.format(str2))\n",
    "    operation =  solution[(str1, str2)]\n",
    "    if str1 == str2 and len(operation) == 0:\n",
    "        return [operation]\n",
    "\n",
    "    if len(operation) == 0 or operation.find('SUB') >= 0:\n",
    "        str1 = str1[:-1]\n",
    "        str2 = str2[:-1]\n",
    "\n",
    "    elif operation.find('DEL') >= 0:\n",
    "        str1 = str1[:-1]\n",
    "\n",
    "    elif operation.find('ADD') >= 0:\n",
    "        str2 = str2[:-1]\n",
    "    \n",
    "    return [operation] + parse_solution(str1,str2)"
   ]
  },
  {
   "cell_type": "code",
   "execution_count": 7,
   "metadata": {
    "tags": [
     "outputPrepend",
     "outputPrepend",
     "outputPrepend",
     "outputPrepend"
    ]
   },
   "outputs": [
    {
     "output_type": "stream",
     "name": "stdout",
     "text": "['DEL G', 'SUB C => F', '', 'SUB D => C', '']\n"
    }
   ],
   "source": [
    "print(parse_solution('ABCDECG', 'ABCCEF'))"
   ]
  },
  {
   "cell_type": "code",
   "execution_count": 8,
   "metadata": {
    "tags": [
     "outputPrepend",
     "outputPrepend",
     "outputPrepend",
     "outputPrepend"
    ]
   },
   "outputs": [
    {
     "output_type": "stream",
     "name": "stdout",
     "text": "['ADD F', 'ADD E', 'ADD C', 'ADD C', '', 'ADD A', '']\n"
    }
   ],
   "source": [
    "#合并方法\n",
    "str1 = 'B'\n",
    "str2 = 'ABCCEF'\n",
    "edit_distance(str1,str2)\n",
    "solutions = parse_solution(str1, str2)\n",
    "print(solutions)"
   ]
  },
  {
   "cell_type": "code",
   "execution_count": 9,
   "metadata": {},
   "outputs": [
    {
     "output_type": "stream",
     "name": "stdout",
     "text": "['ADD F', 'ADD E', 'ADD C', 'ADD C', 'ADD B', 'ADD A', '']\n"
    }
   ],
   "source": [
    "#合并方法\n",
    "str1 = ''\n",
    "str2 = 'ABCCEF'\n",
    "edit_distance(str1,str2)\n",
    "solutions = parse_solution(str1, str2)\n",
    "print(solutions)"
   ]
  },
  {
   "cell_type": "code",
   "execution_count": null,
   "metadata": {},
   "outputs": [],
   "source": []
  }
 ]
}