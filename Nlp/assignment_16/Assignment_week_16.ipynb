{
 "cells": [
  {
   "cell_type": "markdown",
   "metadata": {},
   "source": [
    "### 1.复习上课内容。"
   ]
  },
  {
   "cell_type": "markdown",
   "metadata": {},
   "source": [
    "### 2.理论题"
   ]
  },
  {
   "cell_type": "markdown",
   "metadata": {},
   "source": [
    "1. Why we need $\\gamma$ in reinforcement learning ?"
   ]
  },
  {
   "cell_type": "markdown",
   "metadata": {},
   "source": [
    "2. Please breifly explain what is value function and what is Q function ?"
   ]
  },
  {
   "cell_type": "markdown",
   "metadata": {},
   "source": [
    "3. How temperal difference related to dynamic programming and monte-carlo methods ?"
   ]
  },
  {
   "cell_type": "markdown",
   "metadata": {},
   "source": [
    "4. Please briefly describe what are value iteration and policy iteration ?"
   ]
  },
  {
   "cell_type": "markdown",
   "metadata": {},
   "source": [
    "5. How can we use deep lerning in reinforcement learning ?"
   ]
  },
  {
   "cell_type": "markdown",
   "metadata": {},
   "source": [
    "### 选做题 （实践）"
   ]
  },
  {
   "cell_type": "code",
   "execution_count": 1,
   "metadata": {},
   "outputs": [],
   "source": [
    "import matplotlib\n",
    "import matplotlib.pyplot as plt\n",
    "import numpy as np\n",
    "from matplotlib.table import Table"
   ]
  },
  {
   "cell_type": "code",
   "execution_count": 10,
   "metadata": {},
   "outputs": [],
   "source": [
    "def draw_image(image):\n",
    "    fig,ax = plt.subplots()\n",
    "    ax.set_axis_off()\n",
    "    tb = Table(ax,bbox=[0,0,1,1])\n",
    "\n",
    "    nrows,ncols = image.shape\n",
    "    width,height = 1.0/ncols,1.0/nrows\n",
    "\n",
    "    for (i,j), val in np.ndenumerate(image):\n",
    "        if (i,j) == (0,1):\n",
    "            val = \"A\"\n",
    "        elif (i,j) == (0,3):\n",
    "            val = \"B\"\n",
    "        elif (i,j) == (4,1):\n",
    "            val = \"A'\"\n",
    "        elif (i,j) == (2,3):\n",
    "            val = \"B'\"\n",
    "        tb.add_cell(i,j,width,height,text=val,\n",
    "                    loc='center',facecolor='white')\n",
    "\n",
    "    for i in range(len(image)):\n",
    "        tb.add_cell(i,-1,width,height,text=i+1,loc='right',\n",
    "                    edgecolor='none',facecolor='none')\n",
    "        tb.add_cell(-1,i,width,height/2,text=i+1,loc='center',\n",
    "                    edgecolor='none',facecolor='none')\n",
    "    ax.add_table(tb)"
   ]
  },
  {
   "cell_type": "code",
   "execution_count": 12,
   "metadata": {},
   "outputs": [
    {
     "data": {
      "image/png": "[encoded data removed]",
      "text/plain": [
       "<Figure size 432x288 with 1 Axes>"
      ]
     },
     "metadata": {
      "needs_background": "light"
     },
     "output_type": "display_data"
    }
   ],
   "source": [
    "WORLD_SIZE=5\n",
    "draw_image(np.zeros((WORLD_SIZE,WORLD_SIZE)))"
   ]
  },
  {
   "cell_type": "markdown",
   "metadata": {},
   "source": [
    "Figure above shows a rectangular gridworld. The cell of the grid correspond to the state of the environment. At each cell, four actions with equal probability are possible: north, south, east and west, which deterministically cause the agent to move one cell in the respective direction on the grid. Actions that would take the agent off the grid leave its unchanged, but also result in a reward -1. Other actions result in a reward of 0, expect those taht move the agent out of the special states A and B. From state A, all four actions yield a reward of +10 and take the agent to A'. From state B, all actions yield a reward of +5 and take the agent to B'. "
   ]
  },
  {
   "cell_type": "markdown",
   "metadata": {},
   "source": [
    "#### Try to compute the value of each state ? You can choose any algorithms we leanred in the class.\n",
    "Good luck and happy new year. !!"
   ]
  },
  {
   "cell_type": "code",
   "execution_count": null,
   "metadata": {},
   "outputs": [],
   "source": []
  }
 ],
 "metadata": {
  "kernelspec": {
   "display_name": "Python 3",
   "language": "python",
   "name": "python3"
  },
  "language_info": {
   "codemirror_mode": {
    "name": "ipython",
    "version": 3
   },
   "file_extension": ".py",
   "mimetype": "text/x-python",
   "name": "python",
   "nbconvert_exporter": "python",
   "pygments_lexer": "ipython3",
   "version": "3.7.3"
  }
 },
 "nbformat": 4,
 "nbformat_minor": 2
}
