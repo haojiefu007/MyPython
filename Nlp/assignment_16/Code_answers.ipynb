{
 "cells": [
  {
   "cell_type": "code",
   "execution_count": 6,
   "metadata": {},
   "outputs": [],
   "source": [
    "import matplotlib\n",
    "import matplotlib.pyplot as plt\n",
    "import numpy as np\n",
    "from matplotlib.table import Table\n",
    "\n",
    "WORLD_SIZE = 5\n",
    "\n",
    "A_POS = [0,1]\n",
    "A_PRIME_POS = [4,1]\n",
    "B_POS = [0,3]\n",
    "B_PRIME_POS = [2,3]\n",
    "DISCOUNT = 0.9\n",
    "\n",
    "ACTIONS = [np.array([0,-1]),\n",
    "           np.array([-1,0]),\n",
    "           np.array([0,1]),\n",
    "           np.array([1,0])]\n",
    "ACTION_PROB = 0.25\n",
    "\n",
    "def step(state,action):\n",
    "    if state == A_POS:\n",
    "        return A_PRIME_POS,10\n",
    "    if state == B_POS:\n",
    "        return B_PRIME_POS,5\n",
    "    next_state = (np.array(state)+action).tolist()\n",
    "    x,y = next_state\n",
    "    if x < 0 or x >= WORLD_SIZE or \\\n",
    "            y < 0 or y >= WORLD_SIZE:\n",
    "        reward = -1.0\n",
    "        next_state = state\n",
    "    else:\n",
    "        reward = 0\n",
    "    return next_state, reward\n",
    "\n",
    "def draw_image(image):\n",
    "    fig,ax = plt.subplots()\n",
    "    ax.set_axis_off()\n",
    "    tb = Table(ax,bbox=[0,0,1,1])\n",
    "\n",
    "    nrows,ncols = image.shape\n",
    "    width,height = 1.0/ncols,1.0/nrows\n",
    "\n",
    "    for (i,j), val in np.ndenumerate(image):\n",
    "        tb.add_cell(i,j,width,height,text=val,\n",
    "                    loc='center',facecolor='white')\n",
    "\n",
    "    for i in range(len(image)):\n",
    "        tb.add_cell(i,-1,width,height,text=i+1,loc='right',\n",
    "                    edgecolor='none',facecolor='none')\n",
    "        tb.add_cell(-1,i,width,height/2,text=i+1,loc='center',\n",
    "                    edgecolor='none',facecolor='none')\n",
    "    ax.add_table(tb)"
   ]
  },
  {
   "cell_type": "code",
   "execution_count": 18,
   "metadata": {},
   "outputs": [],
   "source": [
    "def results():\n",
    "    value= np.zeros((WORLD_SIZE,WORLD_SIZE))\n",
    "    while True:\n",
    "        new_value = np.zeros_like(value)\n",
    "        for i in range(WORLD_SIZE):\n",
    "            for j in range(WORLD_SIZE):\n",
    "                for action in ACTIONS:\n",
    "                    (next_i,next_J),reward = step([i,j],action)\n",
    "                    new_value[i,j] += ACTION_PROB*(reward+DISCOUNT*value[next_i,next_J])\n",
    "\n",
    "        if np.sum(np.abs(value-new_value)) < 1e-4:\n",
    "            draw_image(np.round(new_value,decimals=2))\n",
    "            plt.show()\n",
    "            break\n",
    "        value = new_value"
   ]
  },
  {
   "cell_type": "code",
   "execution_count": 19,
   "metadata": {},
   "outputs": [
    {
     "data": {
      "image/png": "[encoded data removed]",
      "text/plain": [
       "<Figure size 432x288 with 1 Axes>"
      ]
     },
     "metadata": {
      "needs_background": "light"
     },
     "output_type": "display_data"
    }
   ],
   "source": [
    "results()"
   ]
  },
  {
   "cell_type": "code",
   "execution_count": null,
   "metadata": {},
   "outputs": [],
   "source": []
  }
 ],
 "metadata": {
  "kernelspec": {
   "display_name": "Python 3",
   "language": "python",
   "name": "python3"
  },
  "language_info": {
   "codemirror_mode": {
    "name": "ipython",
    "version": 3
   },
   "file_extension": ".py",
   "mimetype": "text/x-python",
   "name": "python",
   "nbconvert_exporter": "python",
   "pygments_lexer": "ipython3",
   "version": "3.7.3"
  }
 },
 "nbformat": 4,
 "nbformat_minor": 2
}
