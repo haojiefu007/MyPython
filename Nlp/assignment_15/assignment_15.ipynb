{
 "cells": [
  {
   "cell_type": "markdown",
   "metadata": {},
   "source": [
    "# Assignment 15"
   ]
  },
  {
   "cell_type": "markdown",
   "metadata": {},
   "source": [
    "### 1.What’s the relationship of  word embedding and multi-task learning? "
   ]
  },
  {
   "cell_type": "markdown",
   "metadata": {},
   "source": [
    "ans:word embedding是multi-task learning的基础，正因为有了word embedding技术，才会使词的表征更加通用化，从而发展成多任务学习"
   ]
  },
  {
   "cell_type": "markdown",
   "metadata": {},
   "source": [
    "### 2.Why do we need some super tasks  to make multi-task learning possible? \n"
   ]
  },
  {
   "cell_type": "markdown",
   "metadata": {},
   "source": [
    "ans:因为super tasks会解决语义、语法和逻辑问题，这三个问题是NLP中最基本的问题，从而是NLP的其他问题在super tasks上解决"
   ]
  },
  {
   "cell_type": "markdown",
   "metadata": {},
   "source": [
    "### 3. Why is transfer learning in NLP harder than Computer Vision?"
   ]
  },
  {
   "cell_type": "markdown",
   "metadata": {},
   "source": [
    "ans:NLP中存在语义、语法、逻辑、情绪问题，模型参数不能想机器视觉一样通用"
   ]
  },
  {
   "cell_type": "markdown",
   "metadata": {},
   "source": [
    "### 4. What’s the reinforcement learning, and the differences compared to Supervised learning? \n"
   ]
  },
  {
   "cell_type": "markdown",
   "metadata": {},
   "source": [
    "ans:强化学习是把某个时间段内所有状态的结果累加起来，得到一个最高的反馈即为最优解。而监督学习可以直接得到当前状态（时间）的最优解，通过反向传播更新参数。"
   ]
  },
  {
   "cell_type": "markdown",
   "metadata": {},
   "source": [
    "### 5. What’s Graph Neural Network? Note the similarity of word-2-vec\n"
   ]
  },
  {
   "cell_type": "markdown",
   "metadata": {},
   "source": [
    "ans:类似于词向量，图神经网络会把图中的每个点进行表征，从而计算每个点的相似度，进而得到图的相似度。"
   ]
  },
  {
   "cell_type": "markdown",
   "metadata": {},
   "source": [
    "### 6. What’s the semi-supervised learning and activate learning? \n"
   ]
  },
  {
   "cell_type": "markdown",
   "metadata": {},
   "source": [
    "ans:半监督学习：使用打了标签和没有打标签的数据按照一定的方法进行机器学习。\n",
    "\n",
    "主动学习：在一堆数据中找到最典型的数据，先把数据向量化，找个各个聚簇的中心向量，即为最典型的数据。"
   ]
  },
  {
   "cell_type": "markdown",
   "metadata": {},
   "source": [
    "### 7. What’s the problems when AI models became bigger and bigger?\n"
   ]
  },
  {
   "cell_type": "markdown",
   "metadata": {},
   "source": [
    "ans:模型越来越大，会使极少数人或公司才能使用这种模型，就会形成技术壁垒不能平民化，导致AI行业发展缓慢"
   ]
  },
  {
   "cell_type": "markdown",
   "metadata": {},
   "source": [
    "### 8. Please give some scenarios about Adversarial Attacking Examples.\n"
   ]
  },
  {
   "cell_type": "markdown",
   "metadata": {},
   "source": [
    "ans:图片的神经风格迁移，把图片的某些关键位置遮挡后会导致图片识别结果千差万别"
   ]
  },
  {
   "cell_type": "markdown",
   "metadata": {},
   "source": [
    "### 9. Why is common sense reasoning  so hard? \n"
   ]
  },
  {
   "cell_type": "markdown",
   "metadata": {},
   "source": [
    "ans: 这些是人脑长时间形成理论，有的理论是不能直接写出来的，并缺少对这个理论的命名，"
   ]
  },
  {
   "cell_type": "markdown",
   "metadata": {},
   "source": [
    "### 10. 如果你要选择一个细分进行持续研究，你对哪个方面感兴趣？为什么？ \n"
   ]
  },
  {
   "cell_type": "markdown",
   "metadata": {},
   "source": [
    "ans:我对Reinforcement Learning感兴趣，这个领域对某些事情的预测能力是很强的，通过预测或决策可以帮助人对当前节点的事情做出重要选择。"
   ]
  }
 ],
 "metadata": {
  "language_info": {
   "codemirror_mode": {
    "name": "ipython",
    "version": 3
   },
   "file_extension": ".py",
   "mimetype": "text/x-python",
   "name": "python",
   "nbconvert_exporter": "python",
   "pygments_lexer": "ipython3",
   "version": 3
  },
  "orig_nbformat": 2
 },
 "nbformat": 4,
 "nbformat_minor": 2
}