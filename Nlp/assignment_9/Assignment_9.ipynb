{
 "nbformat": 4,
 "nbformat_minor": 2,
 "metadata": {
  "language_info": {
   "name": "python",
   "codemirror_mode": {
    "name": "ipython",
    "version": 3
   }
  },
  "orig_nbformat": 2,
  "file_extension": ".py",
  "mimetype": "text/x-python",
  "name": "python",
  "npconvert_exporter": "python",
  "pygments_lexer": "ipython3",
  "version": 3
 },
 "cells": [
  {
   "cell_type": "markdown",
   "metadata": {},
   "source": [
    "# Assignment 9"
   ]
  },
  {
   "cell_type": "markdown",
   "metadata": {},
   "source": [
    "#### 1.思考在自然语言处理中如何发掘模型的可解释性"
   ]
  },
  {
   "cell_type": "markdown",
   "metadata": {},
   "source": [
    "ans:\n",
    "\n",
    "1. 从word2vec的方向去解释，把词向量降维到二维后，可以明显地看到词义相近的词向量离得很近\n",
    "\n",
    "2. 从self-attention的方向去考虑，在微调k,v,q这几个权重后，经过处理的句子序列可以得到和之前不同的关键信息（语义、语法信息），这几个kvq向量就可以理解为给语义或者语法信息激活最大的向量。\n",
    "\n",
    "3.从宏观的encoder和decoder方向去考虑，把一个句子通过压缩得到encoder vector,由于该句子可以通过解压缩还原，所以encoder vector会保留原句子的关键信息。"
   ]
  },
  {
   "cell_type": "markdown",
   "metadata": {},
   "source": [
    "#### 2.在Seq2Seq和注意力机制中如何可视化模型细节"
   ]
  },
  {
   "cell_type": "markdown",
   "metadata": {},
   "source": [
    "ans:使用可视化可以用于分析注意力机制对于输出结果影响，"
   ]
  },
  {
   "cell_type": "markdown",
   "metadata": {},
   "source": [
    "#### 3.对抗样本能否运用到自然语言处理模型中"
   ]
  },
  {
   "cell_type": "markdown",
   "metadata": {},
   "source": [
    "ans:通过使用对抗样本可以增加模型的表达力，给输入的文本加一个偏移，把原始结果和新结果做一个比较，去优化结果的差值，从而增加模型的表达能力。"
   ]
  },
  {
   "cell_type": "markdown",
   "metadata": {},
   "source": [
    "#### 4.复现Kaggle心脏病数据集冠军kernel，理解所用的模型可解释性技巧"
   ]
  },
  {
   "cell_type": "markdown",
   "metadata": {},
   "source": [
    "ans: 详见文件夹中what-causes-heart-disease-explaining-the-model.ipynb"
   ]
  }
 ]
}