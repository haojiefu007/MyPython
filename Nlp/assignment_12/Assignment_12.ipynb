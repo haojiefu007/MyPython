{
 "cells": [
  {
   "cell_type": "markdown",
   "metadata": {},
   "source": [
    "# Assignment 12"
   ]
  },
  {
   "cell_type": "markdown",
   "metadata": {},
   "source": [
    "### 1.复习上课内容"
   ]
  },
  {
   "cell_type": "markdown",
   "metadata": {},
   "source": [
    "### 2.回答以下理论问题"
   ]
  },
  {
   "cell_type": "markdown",
   "metadata": {},
   "source": [
    "#### 1. 请写一下TF-IDF的计算公式"
   ]
  },
  {
   "cell_type": "markdown",
   "metadata": {},
   "source": [
    "ans:一个词的TF-IDF = TF * IDF\n",
    "\n",
    "TF = count(t,d) 在一个句子d中t这个词出现的次数\n",
    "\n",
    "IDF = log10(N/dft) N为文档总数，dft为出现这个词的次数"
   ]
  },
  {
   "cell_type": "markdown",
   "metadata": {},
   "source": [
    "#### 2. LDA算法的基本假设是什么？"
   ]
  },
  {
   "cell_type": "markdown",
   "metadata": {},
   "source": [
    "ans:1. 每个文档的土体服从一个分布\n",
    "\n",
    "2. 每个主题的词服从一个分布"
   ]
  },
  {
   "cell_type": "markdown",
   "metadata": {},
   "source": [
    "#### 3. 在TextRank算法中构建图的权重是如何得到的？"
   ]
  },
  {
   "cell_type": "markdown",
   "metadata": {},
   "source": [
    "ans:1.按照节点个数N平均初始化一个节点的权重1/N\n",
    "\n",
    "2. 按照textrank的计算公式，在循环中不停的计算每个节点权重\n",
    "\n",
    "3. 直到计算结果收敛，就到了图中每个节点的权重"
   ]
  },
  {
   "cell_type": "markdown",
   "metadata": {},
   "source": [
    "#### 4. 什么是命名实体识别？ 有什么应用场景？"
   ]
  },
  {
   "cell_type": "markdown",
   "metadata": {},
   "source": [
    "ans: NER命名实体识别是把一句话中的名词按照类型标注出来，名字、地点、品牌等等。\n",
    "\n",
    "用于知识图谱的构建、信息的挖掘"
   ]
  },
  {
   "cell_type": "markdown",
   "metadata": {},
   "source": [
    "#### 5.NLP主要有哪几类任务 ？"
   ]
  },
  {
   "cell_type": "markdown",
   "metadata": {},
   "source": [
    "ans:大体分类分类任务和生成任务\n",
    "\n",
    "1. 分类任务：文本分类、情感分析\n",
    "\n",
    "2. 生成任务：机器翻译、问答系统、"
   ]
  },
  {
   "cell_type": "markdown",
   "metadata": {},
   "source": [
    "### 3.实践题"
   ]
  },
  {
   "cell_type": "markdown",
   "metadata": {},
   "source": [
    "#### 3.1 手动实现TextRank算法 (在新闻数据中随机提取100条新闻训练词向量和做做法测试）"
   ]
  },
  {
   "cell_type": "markdown",
   "metadata": {},
   "source": [
    " 提示：\n",
    " 1. 确定窗口，建立图链接。   \n",
    " 2. 通过词向量相似度确定图上边的权重\n",
    " 3. 根据公式实现算法迭代(d=0.85)"
   ]
  },
  {
   "cell_type": "code",
   "execution_count": 88,
   "metadata": {},
   "outputs": [],
   "source": [
    "import pandas as pd\n",
    "import jieba\n",
    "import re\n",
    "import numpy as np\n",
    "from gensim.models import Word2Vec\n",
    "from functools import lru_cache#缓存\n",
    "\n",
    "#系数\n",
    "d = 0.85\n",
    "\n",
    "#词向量模型\n",
    "modefile = 'D:/Repos/NlpProject_01/Jeff/File/06wiki_news_word2vec_model'\n",
    "wordmodel = Word2Vec.load(modefile)"
   ]
  },
  {
   "cell_type": "code",
   "execution_count": 136,
   "metadata": {},
   "outputs": [],
   "source": [
    "def cut(string): return list(jieba.cut(string))\n",
    "\n",
    "def getStopwords():\n",
    "    stopwords = [line.strip() for line in open('baidu_stopwords.txt',encoding='UTF-8').readlines()]\n",
    "    return stopwords\n",
    "\n",
    "def token(string):\n",
    "    # we will learn the regular expression next course.\n",
    "    return re.findall('\\w+', string)\n",
    "\n",
    "@lru_cache(maxsize=2**10)#缓存\n",
    "def cosinewords(word1,word2):\n",
    "    if word1 not in wordmodel or word2 not in wordmodel:\n",
    "        return 1e-3\n",
    "    return cosine(wordmodel[word1],wordmodel[word2])\n",
    "\n",
    "def cosine(vec1,vec2):\n",
    "    n1 = np.squeeze(np.asarray(vec1))\n",
    "    n2 = np.squeeze(np.asarray(vec2))\n",
    "    cos = np.dot(n1, n2) / (np.linalg.norm(n1) * np.linalg.norm(n2))\n",
    "    return cos"
   ]
  },
  {
   "cell_type": "code",
   "execution_count": 8,
   "metadata": {},
   "outputs": [],
   "source": [
    "#读取文章\n",
    "content = pd.read_csv('D:/Repos/MyPython/Nlp/sqlResult_1558435.csv', encoding='gb18030')\n",
    "content[u'content'] = content[u'content'].astype(str)\n",
    "content[u'content'] = content[u'content'].apply(lambda x : x.replace('\\r',''))\n",
    "content[u'content'] = content[u'content'].apply(lambda x : x.replace('\\n',''))\n",
    "content[u'content'] = content[u'content'].apply(lambda x : x.replace('\\u3000',''))\n",
    "content[u'content'] = content[u'content'].apply(lambda x : x.replace('\\\\n',''))\n",
    "content[u'content'] = content[u'content'].apply(lambda x : x.replace(' ',''))\n",
    "articles = content['content'].tolist()"
   ]
  },
  {
   "cell_type": "code",
   "execution_count": 9,
   "metadata": {},
   "outputs": [],
   "source": [
    "#停用词表\n",
    "stopwords = getStopwords()"
   ]
  },
  {
   "cell_type": "code",
   "execution_count": 44,
   "metadata": {},
   "outputs": [],
   "source": [
    "#初始化数据\n",
    "def initdata(article):\n",
    "    article = ''.join(re.findall('[\\u4e00-\\u9fa5]+',article))#只保留中文\n",
    "    TOKEN = cut(''.join(token(article)))\n",
    "    return list(filter(lambda s: s not in stopwords, TOKEN))"
   ]
  },
  {
   "cell_type": "code",
   "execution_count": 117,
   "metadata": {},
   "outputs": [],
   "source": [
    "#获得窗口数据\n",
    "words = initdata(articles[0])\n",
    "window = {}\n",
    "for i in range(len(words) - 1):\n",
    "    if words[i] not in window:\n",
    "        if i - 1 >= 0: \n",
    "            value = [words[i-1],words[i+1]]\n",
    "        else:\n",
    "            value = [words[i+1]]\n",
    "        window[words[i]] = value\n",
    "    else :\n",
    "        value = window[words[i]]\n",
    "        if words[i-1] not in value:\n",
    "            value.append(words[i-1])\n",
    "        if words[i+1] not in value:\n",
    "            value.append(words[i+1])\n",
    "        window[words[i]] = value"
   ]
  },
  {
   "cell_type": "code",
   "execution_count": 119,
   "metadata": {},
   "outputs": [
    {
     "output_type": "execute_result",
     "data": {
      "text/plain": "'本周 月 日 小米 手机 等款 机型 外 机型 已 暂停 更新 发布 含 开发 版 体验版 内测 稳定版 暂不受 影响 确保 工程师 精力 系统优化 工作 有人 猜测 精力 用到 研发 之中 去年 月 发布 距今已有 一年 有余 更新换代 确切 信息 等待 官方消息'"
     },
     "metadata": {},
     "execution_count": 119
    }
   ],
   "source": [
    "' '.join(initdata(articles[0]))"
   ]
  },
  {
   "cell_type": "code",
   "execution_count": 118,
   "metadata": {},
   "outputs": [
    {
     "output_type": "execute_result",
     "data": {
      "text/plain": "{'本周': ['月'],\n '月': ['本周', '日', '去年', '发布'],\n '日': ['月', '小米'],\n '小米': ['日', '手机'],\n '手机': ['小米', '等款'],\n '等款': ['手机', '机型'],\n '机型': ['等款', '外', '已'],\n '外': ['机型', '机型'],\n '已': ['机型', '暂停'],\n '暂停': ['已', '更新'],\n '更新': ['暂停', '发布'],\n '发布': ['更新', '含', '月', '距今已有'],\n '含': ['发布', '开发'],\n '开发': ['含', '版'],\n '版': ['开发', '体验版'],\n '体验版': ['版', '内测'],\n '内测': ['体验版', '稳定版'],\n '稳定版': ['内测', '暂不受'],\n '暂不受': ['稳定版', '影响'],\n '影响': ['暂不受', '确保'],\n '确保': ['影响', '工程师'],\n '工程师': ['确保', '精力'],\n '精力': ['工程师', '系统优化', '猜测', '用到'],\n '系统优化': ['精力', '工作'],\n '工作': ['系统优化', '有人'],\n '有人': ['工作', '猜测'],\n '猜测': ['有人', '精力'],\n '用到': ['精力', '研发'],\n '研发': ['用到', '之中'],\n '之中': ['研发', '去年'],\n '去年': ['之中', '月'],\n '距今已有': ['发布', '一年'],\n '一年': ['距今已有', '有余'],\n '有余': ['一年', '更新换代'],\n '更新换代': ['有余', '确切'],\n '确切': ['更新换代', '信息'],\n '信息': ['确切', '等待'],\n '等待': ['信息', '官方消息']}"
     },
     "metadata": {},
     "execution_count": 118
    }
   ],
   "source": [
    "window"
   ]
  },
  {
   "cell_type": "code",
   "execution_count": 160,
   "metadata": {},
   "outputs": [],
   "source": [
    "Score = {}\n",
    "#初始化得分为1/n\n",
    "for k,v in window.items():\n",
    "    Score[k] = 1"
   ]
  },
  {
   "cell_type": "code",
   "execution_count": 161,
   "metadata": {},
   "outputs": [
    {
     "output_type": "stream",
     "name": "stdout",
     "text": "[('内测', 1.057255110246802e+253), ('手机', 5.553954849080865e+250), ('精力', 8.348804817634573e+231), ('发布', 1.8569407043385673e+230), ('信息', 2.8959903195692976e+224), ('稳定版', 2.0831721855507155e+213), ('体验版', 2.361712679136341e+211), ('开发', 4.29705252694075e+194), ('猜测', 1.8139335117226655e+183), ('用到', 6.626059461130083e+179)]\n"
    }
   ],
   "source": [
    "#循环获得text-rank\n",
    "newSocre = {}\n",
    "for i in range(500) :\n",
    "    for k,v in window.items(): \n",
    "\n",
    "        #print('clc {}'.format(k))\n",
    "        wordsin = v#wordin列表\n",
    "        clcscore = 1- d#初始化\n",
    "        for i in range(len(wordsin)):\n",
    "            #print(wordsin[i])\n",
    "            outvalue = 0\n",
    "            wordsout = window[words[i]]#wordout列表\n",
    "            for j in range(len(wordsout)):\n",
    "                #print('word1 {}'.format(wordsin[i]))\n",
    "                #print('word2 {}'.format(wordsout[j]))\n",
    "                outvalue = outvalue + cosinewords(wordsin[i],wordsout[j])\n",
    "            clcscore = clcscore + d * cosinewords(k,wordsin[i])/outvalue * Score[k]\n",
    "        newSocre[k] = clcscore\n",
    "\n",
    "    for k,v in window.items():\n",
    "        Score[k] = newSocre[k]\n",
    "\n",
    "#print(Score)\n",
    "L = sorted(Score.items(), key=lambda x: x[1], reverse=True)\n",
    "#得到前10个关键词\n",
    "print(L[:10])"
   ]
  },
  {
   "cell_type": "markdown",
   "metadata": {},
   "source": [
    "#### 选做 1.  提取新闻人物里的对话。(使用以上提取小数据即可）"
   ]
  },
  {
   "cell_type": "code",
   "execution_count": null,
   "metadata": {},
   "outputs": [],
   "source": []
  },
  {
   "cell_type": "markdown",
   "metadata": {},
   "source": [
    "提示：    \n",
    "1.寻找预料里具有表示说的意思。    \n",
    "2.使用语法分析提取句子结构。    \n",
    "3.检测谓语是否有表示说的意思。"
   ]
  },
  {
   "cell_type": "markdown",
   "metadata": {},
   "source": [
    "#### 选择2. ： 电影评论分类。"
   ]
  },
  {
   "cell_type": "markdown",
   "metadata": {},
   "source": [
    "在这个作业中你要完成一个电影评论分类任务。"
   ]
  },
  {
   "cell_type": "markdown",
   "metadata": {},
   "source": [
    "1.数据获取。（采用爬虫技术爬取相关网页上的电影评论数据，例如猫眼电影评论，豆瓣电影评论）"
   ]
  },
  {
   "cell_type": "markdown",
   "metadata": {},
   "source": [
    "2.把所获得数据分解为训练集，验证集和测试集。"
   ]
  },
  {
   "cell_type": "markdown",
   "metadata": {},
   "source": [
    "3.选用相应算法构建模型，并测试。"
   ]
  },
  {
   "cell_type": "markdown",
   "metadata": {},
   "source": [
    "#### 选择3：文章自动续写"
   ]
  },
  {
   "cell_type": "markdown",
   "metadata": {},
   "source": [
    "在这个作业中你要完成一个文章自动续写的模型。"
   ]
  },
  {
   "cell_type": "markdown",
   "metadata": {},
   "source": [
    "1.数据获取。（根据你的兴趣采用爬虫技术爬去相关网站上的文本数据内容：比如故事网站，小说网站等）"
   ]
  },
  {
   "cell_type": "markdown",
   "metadata": {},
   "source": [
    "2.选取模型，并训练。"
   ]
  },
  {
   "cell_type": "markdown",
   "metadata": {},
   "source": [
    "3.展示一些你模型的输出例子。"
   ]
  }
 ],
 "metadata": {
  "kernelspec": {
   "display_name": "Python 3.7.6 64-bit",
   "language": "python",
   "name": "python37664bit40dc0dc0f4f8425f82bc2b10d91bf305"
  },
  "language_info": {
   "codemirror_mode": {
    "name": "ipython",
    "version": 3
   },
   "file_extension": ".py",
   "mimetype": "text/x-python",
   "name": "python",
   "nbconvert_exporter": "python",
   "pygments_lexer": "ipython3",
   "version": "3.7.6-final"
  }
 },
 "nbformat": 4,
 "nbformat_minor": 2
}