{
 "cells": [
  {
   "cell_type": "code",
   "execution_count": 5,
   "metadata": {},
   "outputs": [],
   "source": [
    "import gensim\n",
    "import pandas as pd\n",
    "import jieba\n",
    "import re\n",
    "import stanfordcorenlp\n",
    "import math\n",
    "import numpy as np\n",
    "import random"
   ]
  },
  {
   "cell_type": "markdown",
   "metadata": {},
   "source": [
    "## Data preprocessing"
   ]
  },
  {
   "cell_type": "code",
   "execution_count": 6,
   "metadata": {},
   "outputs": [],
   "source": [
    "data_source = \"D:/Repos/MyPython/Nlp/sqlResult_1558435.csv\""
   ]
  },
  {
   "cell_type": "code",
   "execution_count": 7,
   "metadata": {},
   "outputs": [],
   "source": [
    "data = pd.read_csv(data_source,encoding='gb18030')"
   ]
  },
  {
   "cell_type": "code",
   "execution_count": 8,
   "metadata": {},
   "outputs": [],
   "source": [
    "data = data.fillna('')#给为null的数据赋''"
   ]
  },
  {
   "cell_type": "code",
   "execution_count": 9,
   "metadata": {},
   "outputs": [],
   "source": [
    "def cut(string): return ' '.join(jieba.cut(string))"
   ]
  },
  {
   "cell_type": "code",
   "execution_count": 9,
   "metadata": {},
   "outputs": [
    {
     "output_type": "stream",
     "name": "stderr",
     "text": "Building prefix dict from the default dictionary ...\nDumping model to file cache C:\\Users\\jeffb\\AppData\\Local\\Temp\\jieba.cache\nLoading model cost 1.162 seconds.\nPrefix dict has been built successfully.\n"
    },
    {
     "output_type": "execute_result",
     "data": {
      "text/plain": "'你 今天 运动 了 吗'"
     },
     "metadata": {},
     "execution_count": 9
    }
   ],
   "source": [
    "cut(\"你今天运动了吗\")"
   ]
  },
  {
   "cell_type": "code",
   "execution_count": 10,
   "metadata": {},
   "outputs": [],
   "source": [
    "content = data['content'].tolist()"
   ]
  },
  {
   "cell_type": "code",
   "execution_count": 11,
   "metadata": {},
   "outputs": [],
   "source": [
    "def token(string):\n",
    "    return re.findall(r'[\\d|\\w]+',string)"
   ]
  },
  {
   "cell_type": "code",
   "execution_count": 12,
   "metadata": {},
   "outputs": [
    {
     "output_type": "execute_result",
     "data": {
      "text/plain": "['这是一个测试']"
     },
     "metadata": {},
     "execution_count": 12
    }
   ],
   "source": [
    "token(\"这是一个测试\\n\\n\\n\")"
   ]
  },
  {
   "cell_type": "code",
   "execution_count": 12,
   "metadata": {},
   "outputs": [],
   "source": [
    "news_content = [token(n) for n in content]"
   ]
  },
  {
   "cell_type": "code",
   "execution_count": 13,
   "metadata": {},
   "outputs": [],
   "source": [
    "news_content = [''.join(n) for n in news_content]"
   ]
  },
  {
   "cell_type": "code",
   "execution_count": 14,
   "metadata": {},
   "outputs": [
    {
     "output_type": "stream",
     "name": "stderr",
     "text": "Building prefix dict from the default dictionary ...\nLoading model from cache C:\\Users\\jeffb\\AppData\\Local\\Temp\\jieba.cache\nLoading model cost 0.952 seconds.\nPrefix dict has been built successfully.\n"
    }
   ],
   "source": [
    "news_content = [cut(n) for n in news_content]"
   ]
  },
  {
   "cell_type": "code",
   "execution_count": 15,
   "metadata": {},
   "outputs": [
    {
     "output_type": "execute_result",
     "data": {
      "text/plain": "['此外 自 本周 6 月 12 日起 除 小米 手机 6 等 15 款 机型 外 其余 机型 已 暂停 更新 发布 含 开发 版 体验版 内测 稳定版 暂不受 影响 以 确保 工程师 可以 集中 全部 精力 进行 系统优化 工作 有人 猜测 这 也 是 将 精力 主要 用到 MIUI9 的 研发 之中 MIUI8 去年 5 月 发布 距今已有 一年 有余 也 是 时候 更新换代 了 当然 关于 MIUI9 的 确切 信息 我们 还是 等待 官方消息']"
     },
     "metadata": {},
     "execution_count": 15
    }
   ],
   "source": [
    "news_content[:1]"
   ]
  },
  {
   "cell_type": "markdown",
   "metadata": {},
   "source": [
    "## TF-IDF"
   ]
  },
  {
   "cell_type": "code",
   "execution_count": 19,
   "metadata": {},
   "outputs": [],
   "source": [
    "def document_frequency(word):\n",
    "    return sum(1 for n in news_content if word in n)"
   ]
  },
  {
   "cell_type": "code",
   "execution_count": 20,
   "metadata": {},
   "outputs": [],
   "source": [
    "def idf(word):\n",
    "    return math.log10(len(news_content)/document_frequency(word))"
   ]
  },
  {
   "cell_type": "code",
   "execution_count": 21,
   "metadata": {},
   "outputs": [
    {
     "output_type": "execute_result",
     "data": {
      "text/plain": "0.1051466115514474"
     },
     "metadata": {},
     "execution_count": 21
    }
   ],
   "source": [
    "idf(\"的\")"
   ]
  },
  {
   "cell_type": "code",
   "execution_count": 19,
   "metadata": {},
   "outputs": [
    {
     "data": {
      "text/plain": [
       "2.9523613237924735"
      ]
     },
     "execution_count": 19,
     "metadata": {},
     "output_type": "execute_result"
    }
   ],
   "source": [
    "idf(\"小米\")"
   ]
  },
  {
   "cell_type": "code",
   "execution_count": 22,
   "metadata": {},
   "outputs": [],
   "source": [
    "def tf(word,document):\n",
    "    words = document.split()\n",
    "    return sum(1 for w in words if w==word)"
   ]
  },
  {
   "cell_type": "code",
   "execution_count": 23,
   "metadata": {},
   "outputs": [
    {
     "output_type": "execute_result",
     "data": {
      "text/plain": "2"
     },
     "metadata": {},
     "execution_count": 23
    }
   ],
   "source": [
    "tf(\"的\",news_content[0])"
   ]
  },
  {
   "cell_type": "code",
   "execution_count": 24,
   "metadata": {},
   "outputs": [],
   "source": [
    "def tf_idf(word,document):\n",
    "    return tf(word,document)*idf(word)"
   ]
  },
  {
   "cell_type": "code",
   "execution_count": 25,
   "metadata": {},
   "outputs": [
    {
     "output_type": "execute_result",
     "data": {
      "text/plain": "0.2102932231028948"
     },
     "metadata": {},
     "execution_count": 25
    }
   ],
   "source": [
    "tf_idf(\"的\",news_content[0])"
   ]
  },
  {
   "cell_type": "code",
   "execution_count": 26,
   "metadata": {},
   "outputs": [],
   "source": [
    "def get_keywords_of_a_document(document):\n",
    "    words = set(document.split())\n",
    "    tfidf = [\n",
    "        (w,tf_idf(w,document)) for w in words\n",
    "    ]\n",
    "    tfidf = sorted(tfidf,key=lambda x: x[1],reverse=True)\n",
    "    return tfidf"
   ]
  },
  {
   "cell_type": "code",
   "execution_count": 27,
   "metadata": {},
   "outputs": [
    {
     "output_type": "execute_result",
     "data": {
      "text/plain": "[('骁龙', 14.28860032832347),\n ('Windows10', 12.14781401040159),\n ('桌面', 8.674990450316585),\n ('高通', 6.392972936239964),\n ('835', 6.363018624300659),\n ('微软', 5.379820468124088),\n ('CPUGPU', 4.9523613237924735),\n ('二合一', 4.9523613237924735),\n ('biglittle', 4.9523613237924735),\n ('835Win10', 4.9523613237924735),\n ('性能', 4.756660112129509),\n ('源码', 4.651331328128492),\n ('Wintel', 4.651331328128492),\n ('屏蔽掉', 4.651331328128492),\n ('SoC', 4.475240069072811),\n ('基带', 4.475240069072811),\n ('Exynos', 4.350301332464511),\n ('Q4', 4.17421007340883),\n ('联发科', 4.107263283778217),\n ('ARM', 4.04927133680053),\n ('PCB', 3.9981188143531488),\n ('华硕', 3.9523613237924735),\n ('平台', 3.8983153086735953),\n ('功耗', 3.6301420290585544),\n ('惠普', 3.6099386429702673),\n ('蓝牙', 3.5721500820808676),\n ('麒麟', 3.4472113454725677),\n ('WiFi', 3.3503013324645115),\n ('处理器', 3.280263465856756),\n ('方案', 3.105375204622871),\n ('小米', 2.9523613237924735),\n ('联想', 2.91493482585185),\n ('按计划', 2.694682748923289),\n ('架构', 2.6736077228396447),\n ('澎湃', 2.6668040147847),\n ('华为', 2.6645595938622475),\n ('三星', 2.6556961335309426),\n ('兼顾', 2.615901589943944),\n ('相反', 2.5776129777823695),\n ('集成', 2.5226090437900655),\n ('节省', 2.492968836033243),\n ('完美', 2.4021329707373793),\n ('联手', 2.3996931076802803),\n ('以便', 2.3783300560647547),\n ('首发', 2.317884053631742),\n ('认证', 2.3158734274391084),\n ('也许', 2.3020538006605373),\n ('见到', 2.2648323625778395),\n ('一款', 2.2630524646688532),\n ('形态', 2.2612798316695053),\n ('作为', 2.168139271549236),\n ('电脑', 2.1173052220723574),\n ('适合', 2.0890384636720176),\n ('当然', 2.040139267260058),\n ('拿到', 2.017358172338819),\n ('理解', 1.8867816090640253),\n ('唯一', 1.8568432814693228),\n ('找到', 1.7936973429784844),\n ('资料', 1.761469606870304),\n ('至少', 1.6578950976308806),\n ('考虑', 1.6489492531957317),\n ('只是', 1.6489492531957317),\n ('更好', 1.5807393966164522),\n ('强调', 1.5736001484761004),\n ('空间', 1.541921537582127),\n ('核心', 1.5229320594106859),\n ('不会', 1.5036550038873937),\n ('一种', 1.500881918667612),\n ('预计', 1.4530867419002562),\n ('因为', 1.3158734274391082),\n ('产品', 1.2604845012331423),\n ('未来', 1.2349404870700986),\n ('传统', 1.234108823694723),\n ('一些', 1.1920896632504103),\n ('显示', 1.1870653940944171),\n ('报道', 1.1493824684572118),\n ('均', 1.1379805293225354),\n ('进入', 1.1128832764182752),\n ('他们', 1.1044803263470984),\n ('可以', 1.0866652638764032),\n ('已经', 1.0650253933933065),\n ('开始', 1.046026281987383),\n ('30', 0.9719942976076985),\n ('称', 0.9704068793225001),\n ('今年', 0.966261698737344),\n ('只', 0.954014786396109),\n ('了', 0.9176671364033865),\n ('通过', 0.8982847665019633),\n ('去', 0.8789362670464922),\n ('的', 0.8411728924115792),\n ('而', 0.7562680800549588),\n ('还', 0.7365123476810193),\n ('正', 0.6973060202350319),\n ('小', 0.6700338245539473),\n ('能', 0.6185111786899286),\n ('等', 0.5441043941837564),\n ('将', 0.5152928533643126),\n ('个', 0.5035468301229501),\n ('地', 0.45457499707050547),\n ('比', 0.4210484922763794),\n ('是', 0.4069428640413574),\n ('和', 0.3810835072902879),\n ('新', 0.031997949117575065)]"
     },
     "metadata": {},
     "execution_count": 27
    }
   ],
   "source": [
    "get_keywords_of_a_document(news_content[1])"
   ]
  },
  {
   "cell_type": "code",
   "execution_count": 28,
   "metadata": {},
   "outputs": [
    {
     "output_type": "execute_result",
     "data": {
      "text/plain": "'骁龙 835 作为 唯一 通过 Windows10 桌面 平台 认证 的 ARM 处理器 高通 强调 不会 因为 只 考虑 性能 而 去 屏蔽掉 小 核心 相反 他们 正 联手 微软 找到 一种 适合 桌面 平台 的 兼顾 性能 和 功耗 的 完美 方案 报道 称 微软 已经 拿到 了 一些 新 的 源码 以便 Windows10 更好 地 理解 biglittle 架构 资料 显示 骁龙 835 作为 一款 集成 了 CPUGPU 基带 蓝牙 WiFi 的 SoC 比 传统 的 Wintel 方案 可以 节省 至少 30 的 PCB 空间 按计划 今年 Q4 华硕 惠普 联想 将 首发 骁龙 835Win10 电脑 预计 均 是 二合一 形态 的 产品 当然 高通 骁龙 只是 个 开始 未来 也许 还 能 见到 三星 Exynos 联发科 华为 麒麟 小米 澎湃 等 进入 Windows10 桌面 平台'"
     },
     "metadata": {},
     "execution_count": 28
    }
   ],
   "source": [
    "news_content[1]"
   ]
  },
  {
   "cell_type": "markdown",
   "metadata": {},
   "source": [
    "### TFIDF Vectorizer"
   ]
  },
  {
   "cell_type": "code",
   "execution_count": 2,
   "metadata": {},
   "outputs": [],
   "source": [
    "from sklearn.feature_extraction.text import TfidfVectorizer"
   ]
  },
  {
   "cell_type": "code",
   "execution_count": 30,
   "metadata": {},
   "outputs": [],
   "source": [
    "vectorizer = TfidfVectorizer(max_features=10000)"
   ]
  },
  {
   "cell_type": "code",
   "execution_count": 31,
   "metadata": {},
   "outputs": [],
   "source": [
    "sample_num = 50000\n",
    "sub_samples = news_content[:sample_num]"
   ]
  },
  {
   "cell_type": "code",
   "execution_count": 32,
   "metadata": {},
   "outputs": [],
   "source": [
    "X = vectorizer.fit_transform(sub_samples)"
   ]
  },
  {
   "cell_type": "code",
   "execution_count": 33,
   "metadata": {},
   "outputs": [
    {
     "output_type": "execute_result",
     "data": {
      "text/plain": "10000"
     },
     "metadata": {},
     "execution_count": 33
    }
   ],
   "source": [
    "len(vectorizer.vocabulary_)"
   ]
  },
  {
   "cell_type": "code",
   "execution_count": 34,
   "metadata": {},
   "outputs": [
    {
     "output_type": "execute_result",
     "data": {
      "text/plain": "(array([0, 0, 0, 0, 0, 0, 0, 0, 0, 0, 0, 0, 0, 0, 0, 0, 0, 0, 0, 0, 0, 0,\n        0, 0, 0, 0, 0, 0, 0, 0, 0, 0, 0, 0, 0, 0, 0, 0, 0, 0, 0, 0, 0, 0,\n        0, 0, 0, 0, 0, 0, 0, 0, 0, 0, 0, 0, 0, 0, 0], dtype=int64),\n array([ 100,  281,  360,  372,  472,  578, 1008, 1162, 1244, 1269, 1285,\n        1380, 1462, 1886, 2435, 2754, 2760, 2989, 3067, 3353, 3800, 3990,\n        4173, 4272, 4429, 4497, 4521, 4529, 4595, 4658, 4961, 5037, 5104,\n        5136, 5550, 5717, 5771, 5899, 6035, 6081, 6710, 6971, 7072, 7217,\n        7506, 7986, 8025, 8026, 8137, 8207, 8479, 8558, 8799, 9127, 9196,\n        9252, 9637, 9744, 9824], dtype=int64))"
     },
     "metadata": {},
     "execution_count": 34
    }
   ],
   "source": [
    "np.where(X[1].toarray())  # find positions whose values is not zero "
   ]
  },
  {
   "cell_type": "code",
   "execution_count": 35,
   "metadata": {},
   "outputs": [
    {
     "output_type": "execute_result",
     "data": {
      "text/plain": "0.0"
     },
     "metadata": {},
     "execution_count": 35
    }
   ],
   "source": [
    "X[1].toarray()[0][12]"
   ]
  },
  {
   "cell_type": "code",
   "execution_count": 36,
   "metadata": {},
   "outputs": [],
   "source": [
    "document_1,document_2 = random.randint(0,1000),random.randint(0,1000)"
   ]
  },
  {
   "cell_type": "code",
   "execution_count": 37,
   "metadata": {},
   "outputs": [
    {
     "output_type": "execute_result",
     "data": {
      "text/plain": "655"
     },
     "metadata": {},
     "execution_count": 37
    }
   ],
   "source": [
    "document_1"
   ]
  },
  {
   "cell_type": "code",
   "execution_count": 38,
   "metadata": {},
   "outputs": [
    {
     "output_type": "execute_result",
     "data": {
      "text/plain": "590"
     },
     "metadata": {},
     "execution_count": 38
    }
   ],
   "source": [
    "document_2"
   ]
  },
  {
   "cell_type": "code",
   "execution_count": 39,
   "metadata": {},
   "outputs": [
    {
     "output_type": "execute_result",
     "data": {
      "text/plain": "'新华社 博鳌 6 月 23 日电 记者 赵叶 苹以 新形势下 加强 和 改进 党 对 新闻 舆论 工作 领导 的 经验 做法 为 主题 的 第六次 中老 两党 理论 研讨会 23 日 在 海南 博鳌 闭幕 中共中央 网信 办 副 主任 任 贤良 和 老挝 国家 政治 行政 学院 院长 通沙立 分别 致 闭幕 辞中 老 双方 均 表示 本次 研讨会 对于 加强 两党 在 新闻 舆论 工作 领域 的 经验交流 互鉴 进一步 把握 新形势下 新闻 舆论 工作 的 特点 和 规律 提升 党 对 新闻 舆论 工作 的 领导 能力 和 水平 对于 各自 国家 的 社会主义 现代化 建设 事业 的 发展 具有 重要 现实意义 在 为期 两天 的 研讨会 上 中 老 双方 代表 畅所欲言 就 新形势下 坚持 党管 媒体 坚持 妥善 引导 舆论 坚持 媒体 融合 发展 深化 双方 交流 等 重要 问题 进行 了 深入 讨论 达成 广泛 共识'"
     },
     "metadata": {},
     "execution_count": 39
    }
   ],
   "source": [
    "news_content[document_1]"
   ]
  },
  {
   "cell_type": "code",
   "execution_count": 40,
   "metadata": {},
   "outputs": [],
   "source": [
    "vector_of_document_1 = X[document_1].toarray()[0]"
   ]
  },
  {
   "cell_type": "code",
   "execution_count": 41,
   "metadata": {},
   "outputs": [
    {
     "output_type": "execute_result",
     "data": {
      "text/plain": "'本文 来源 央视 新闻 鹘 鹰 战机 的 模型 亮相 巴黎 航展 第 52 届 巴黎 航展 于 6 月 19 日至 25 日 举行 我国 最新型 多用途 隐身 战机 鹘 鹰 也 就是 歼 31 战机 首次 亮相 巴黎 航展 引发 各界 关注 被 称为 鹘 鹰 20 版 的 中国 歼 31 战机 歼 31 战斗机 代号 鹘 鹰 研制 单位 中航 工业 沈阳 飞机 工业 集团公司 首飞 时间 2012 年 10 月 布局 单座 双发 外倾 双垂尾 全动 平尾 定位 主导 未来 战场 的 最新型 多用途 隐身 战斗机 特性 高 生存力 和 多任务 能力 高 生存力 低 雷达 可 探测 性低 红外 辐射 特性 优异 的 电子对抗 性能 低 易损性 设计 多任务 能力 强大 的 目标 探测 和 外部 信息 综合 能力 优异 的 态势 感知 和 信息 共享 能力 超 视距 多 目标 攻击 和 大离 轴角 全 向 攻击 格斗 空战 能力 对 地 和 海面 目标 精确 打击 能力 适应 复杂 气象条件 和 广 地域 使用 能力 优异 的 综合 保障 能力 中国 航空工业 集团公司 副总经理 李玉海 表示 鹘 鹰 战机 具备 高 隐身 高 敏捷性 超音速 等 优势 其 技术 成熟度 已经 相当 高 李玉海 介绍 鹘 鹰 作为 一款 我国 具有 完全 自主 知识产权 的 第五代 战机 在 性能 上 与 同 等级 别的 战机 没有 差距 与 第四代 战机 相比 更是 具有 压倒性 优势 另外 这个 量级 的 飞机 中 无论是 单机 成本 还是 全 寿命 机 的 成本 鹘 鹰 都 处于 领先水平 也就是说 性能 不 差且 性价比 高 此前 鹘 鹰 战机 还 曾 参加 过 2015 年 的 迪拜 航展 2016 年 被 称为 鹘 鹰 20 的 改进型 歼 31 试飞 成功 改进 版本 不仅 改进 了 空气 动力 设计 还 加大 了 武器 舱 军事 专家 尹卓 曾 分析 歼 31 离 定型 还 需要 一段时间 未来 不 排除 成为 航空母舰 舰载机 此次 巴黎 航展 中国 围绕 军机 民机 和 机载设备 三条 主线 共 组织 9 大类 15 项 重点 产品 和 系统 参展 除鹘鹰 战机 外 中国 航空工业 的 翼 龙 系列 中 高阶 军用 无人机 也 将 在 本届 巴黎 航空展 亮相 包括 翼龙 1 翼龙 2 无人机 系统 其中 翼龙 2 无人机 全 尺寸 模型 将 首次 在 巴黎 航空展 进行 馆外 静展 此外 直 10ME 武装 直升机 直 19E 武装 直升机 新一代 中型 多用途 运输机 运 9E 军用 运输机 也 将 首次 在 巴黎 航展 上 展示 C929 客舱 布置 首次 亮相 巴黎 另外 根据 中国 商飞 旗下 的 大 飞机 报 报道 中 俄 远程 宽体 客机 C929 客舱 布置 在 巴黎 航展 首次 亮相 采用 头等舱 商务 舱 和 经济舱 标准 三舱 布局 共 280 座 NEWSMORE 中国 的 最新 一代 战机 除了 歼 31 之外 还有 歼 20 飞机 两者 属于 同 一代 隐身 战机 区别 主要 是 配置 不同 最近 一组 歼 20 五机 编队 的 图片 和 视频 刷屏 网络 如果 属实 这 是 歼 20 首次 以大 编队 飞行 出现 在 公众 面前 网上 曝光 的 视频 和 图片 显示 5 架 歼 20 战机 以 人字形 编队 飞行 飞行 过程 中 编队 右侧 第二架 飞机 疑似 拉烟 这 是 迄今为止 歼 20 战斗机 编队 架 数最多 的 一次 飞行 2016 年 的 珠海航展 期间 歼 20 首次 正式 公开 露面 2 架 歼 20 进行 了 几分钟 的 飞行 表演 展示 过程 中歼 20 战机 表演 了 垂直 爬升 并 有 大量 翻滚 动作 展现 了 发动机 的 优异 性能 国防部 歼 20 研制 试验 试飞 按计划 推进 歼 20 是 中国 自主 研发 的 新一代 隐身 战斗机 其 动向 一直 受到 外界 密切 关注 有关 歼 20 最近 的 一次 官方 表态 是 在 5 月 25 日 中国国防部 记者会 上 有 记者 提问 歼 20 最近 在 忙 什么 是否 已 正式 加入 空军 序列 中国国防部 新闻 发言人 任国强 进行 了 回应 歼 20 飞机 是 适应 未来 战场 需要 由 中国 自主 研制 的 新一代 隐身 战斗机 研制 试验 试飞 工作 正在 按计划 推进 该机 将 进一步 提升 我 空军 综合 作战 能力 有助于 空军 更好 地 肩负起 维护 国家主权 安全 和 领土完整 的 神圣 使命 歼 20 资料 图 军事 专家 杜 文龙 分析 如果 歼 20 现在 开始 进行 密集 编队 飞行 说明 飞行员 已经 对 飞机 性能 的 了解 和 信任 达到 较 高水平 这 也 标志 着 在 空军 的 作战 序列 中 战机 初步 的 训练 已经 完成 正在 向 深度 训练 转变 更 多 新闻 振奋 丨 豆腐脑 里 打洞 中国 方案 又 攻克 一 世界 难题 一图 | 明天 凌晨 A股 又 将 迎来 一个 重要 时刻 能 带来 机会 吗 必看 丨 国产 食盐 添加剂 堪比 砒霜 央视 深度 揭秘 案例 丨 5 岁 女孩 吃 了 别人 送 的 芭蕉 被 噎 死 赠送 人有 责任 吗 监制 唐怡 主编 王兴栋 编辑 胡宜 闯 央视 新闻 责任编辑 邹少欢'"
     },
     "metadata": {},
     "execution_count": 41
    }
   ],
   "source": [
    "news_content[document_2]"
   ]
  },
  {
   "cell_type": "code",
   "execution_count": 42,
   "metadata": {},
   "outputs": [],
   "source": [
    "vector_of_document_2 = X[document_2].toarray()[0]"
   ]
  },
  {
   "cell_type": "code",
   "execution_count": 43,
   "metadata": {},
   "outputs": [],
   "source": [
    "from scipy.spatial.distance import cosine"
   ]
  },
  {
   "cell_type": "code",
   "execution_count": 44,
   "metadata": {},
   "outputs": [],
   "source": [
    "def distance(v1,v2): return cosine(v1,v2)"
   ]
  },
  {
   "cell_type": "code",
   "execution_count": 45,
   "metadata": {},
   "outputs": [
    {
     "output_type": "execute_result",
     "data": {
      "text/plain": "0.9557465539131513"
     },
     "metadata": {},
     "execution_count": 45
    }
   ],
   "source": [
    "distance(vector_of_document_1,vector_of_document_2)"
   ]
  },
  {
   "cell_type": "markdown",
   "metadata": {},
   "source": [
    "## TextRank   homework"
   ]
  },
  {
   "cell_type": "markdown",
   "metadata": {},
   "source": [
    "## LDA"
   ]
  },
  {
   "cell_type": "code",
   "execution_count": 3,
   "metadata": {},
   "outputs": [],
   "source": [
    "from gensim import corpora, models\n",
    "import jieba.posseg as jp,jieba#词性标注"
   ]
  },
  {
   "cell_type": "code",
   "execution_count": 17,
   "metadata": {},
   "outputs": [],
   "source": [
    "#\tn\t名词\n",
    "#\tnr\t人名\n",
    "#   ns\t地名\n",
    "#   nt\t机构团体\n",
    "#   eng 英语?\n",
    "#   v\t动词\n",
    "#   d\t副词\n",
    "flags = ('n', 'nr', 'ns', 'nt', 'eng', 'v', 'd')"
   ]
  },
  {
   "cell_type": "code",
   "execution_count": 50,
   "metadata": {},
   "outputs": [],
   "source": [
    "data = pd.read_csv(data_source,encoding='gb18030')"
   ]
  },
  {
   "cell_type": "code",
   "execution_count": 18,
   "metadata": {},
   "outputs": [],
   "source": [
    "news = data[\"content\"][:100]"
   ]
  },
  {
   "cell_type": "code",
   "execution_count": 19,
   "metadata": {},
   "outputs": [],
   "source": [
    "stop_words = []\n",
    "with open('./百度停用词表.txt',encoding='utf-8') as f:\n",
    "    for word in f.readlines():\n",
    "        stop_words.append(word.strip())"
   ]
  },
  {
   "cell_type": "code",
   "execution_count": 21,
   "metadata": {},
   "outputs": [],
   "source": [
    "words_ls = []\n",
    "for text in news:\n",
    "    words = [w.word for w in jp.cut(text) if w.flag in flags and w.word not in stop_words]\n",
    "    words_ls.append(words)"
   ]
  },
  {
   "cell_type": "code",
   "execution_count": 22,
   "metadata": {},
   "outputs": [
    {
     "output_type": "execute_result",
     "data": {
      "text/plain": "100"
     },
     "metadata": {},
     "execution_count": 22
    }
   ],
   "source": [
    "len(words_ls)"
   ]
  },
  {
   "cell_type": "code",
   "execution_count": 23,
   "metadata": {},
   "outputs": [],
   "source": [
    "dictionary = corpora.Dictionary(words_ls)"
   ]
  },
  {
   "cell_type": "code",
   "execution_count": 24,
   "metadata": {},
   "outputs": [],
   "source": [
    "corpus = [dictionary.doc2bow(words) for words in words_ls]"
   ]
  },
  {
   "cell_type": "code",
   "execution_count": 27,
   "metadata": {},
   "outputs": [
    {
     "output_type": "execute_result",
     "data": {
      "text/plain": "[(0, 3),\n (1, 1),\n (2, 1),\n (3, 1),\n (4, 2),\n (5, 1),\n (6, 1),\n (7, 1),\n (8, 1),\n (9, 1),\n (10, 1),\n (11, 1),\n (12, 1),\n (13, 1),\n (14, 1),\n (15, 1),\n (16, 2),\n (17, 1),\n (18, 1),\n (19, 1),\n (20, 1),\n (21, 1),\n (22, 2),\n (23, 1),\n (24, 1)]"
     },
     "metadata": {},
     "execution_count": 27
    }
   ],
   "source": [
    "corpus[0]"
   ]
  },
  {
   "cell_type": "code",
   "execution_count": 28,
   "metadata": {},
   "outputs": [],
   "source": [
    "lda = models.ldamodel.LdaModel(corpus=corpus,id2word=dictionary,num_topics=5)"
   ]
  },
  {
   "cell_type": "code",
   "execution_count": 29,
   "metadata": {},
   "outputs": [
    {
     "output_type": "stream",
     "name": "stdout",
     "text": "(0, '0.007*\"市场\" + 0.006*\"不\" + 0.005*\"都\" + 0.005*\"还\" + 0.005*\"会\" + 0.005*\"格力\" + 0.005*\"手机\" + 0.004*\"挡泥板\" + 0.004*\"人\" + 0.004*\"中国\"')\n(1, '0.008*\"企业\" + 0.006*\"市场\" + 0.006*\"跨境\" + 0.005*\"乐视\" + 0.005*\"都\" + 0.004*\"不\" + 0.004*\"还\" + 0.004*\"人\" + 0.003*\"中国\" + 0.003*\"会\"')\n(2, '0.006*\"中国\" + 0.005*\"都\" + 0.004*\"还\" + 0.004*\"会\" + 0.004*\"不\" + 0.004*\"人\" + 0.004*\"市场\" + 0.003*\"内容\" + 0.003*\"手机\" + 0.003*\"资金\"')\n(3, '0.006*\"会\" + 0.005*\"都\" + 0.005*\"冰架\" + 0.005*\"乐视\" + 0.004*\"人\" + 0.004*\"不\" + 0.004*\"市场\" + 0.004*\"中国\" + 0.003*\"记者\" + 0.003*\"内容\"')\n(4, '0.005*\"会\" + 0.005*\"市场\" + 0.004*\"人\" + 0.004*\"都\" + 0.004*\"不\" + 0.003*\"还\" + 0.003*\"记者\" + 0.003*\"女子\" + 0.003*\"相关\" + 0.003*\"摄像头\"')\n"
    }
   ],
   "source": [
    "for topic in lda.print_topics(num_words=10):\n",
    "    print(topic)"
   ]
  },
  {
   "cell_type": "code",
   "execution_count": 30,
   "metadata": {},
   "outputs": [],
   "source": [
    "text = data[\"content\"][102]"
   ]
  },
  {
   "cell_type": "code",
   "execution_count": 31,
   "metadata": {},
   "outputs": [],
   "source": [
    "words = [[w.word for w in jp.cut(text) if w.flag in flags and w.word not in stop_words]]"
   ]
  },
  {
   "cell_type": "code",
   "execution_count": 32,
   "metadata": {},
   "outputs": [],
   "source": [
    "text_corpus = [dictionary.doc2bow(word) for word in words]"
   ]
  },
  {
   "cell_type": "code",
   "execution_count": 33,
   "metadata": {},
   "outputs": [
    {
     "output_type": "execute_result",
     "data": {
      "text/plain": "[[(0, 0.25606662), (1, 0.2427181), (2, 0.43912604), (3, 0.059972305)]]"
     },
     "metadata": {},
     "execution_count": 33
    }
   ],
   "source": [
    "list(lda[text_corpus])"
   ]
  },
  {
   "cell_type": "code",
   "execution_count": 34,
   "metadata": {},
   "outputs": [
    {
     "output_type": "execute_result",
     "data": {
      "text/plain": "'新疆日报讯（通讯员吕丽娜报道）6月13日，笔者在拜城县残联培训基地见到了正在参加雕刻技术培训的托乎提·斯坎达尔，今年31岁的他是拜城县托克逊乡亚吐尔村的村民。通过学习，他已经可以利用残疾的双手雕刻出漂亮的葫芦花纹，学到技术后的他还加入了农民合作社，现在每个月有2000多元的稳定收入，最高时月收入达5000多元。\\r\\n据悉，今年以来，拜城县为进一步做好残疾人就业援助工作，采取“兴趣+技能”“培训+技能”等方式，在该县残疾人培训基地分别举办厨师班、刺绣班、雕刻班、地毯编织班等技能培训班，给全县的残疾人提供学习技能的机会，学习期间为他们免费提供食宿。\\r\\n现在每个班都会吸引一些残疾人前来学习技术，技能培训班不仅能帮助残疾人掌握一门技能，还能拓宽残疾人就业渠道。家住拜城县大桥乡农民阿不都热依木·亚森说：“我现在在合作社上班，有了稳定收入，家里的变化也非常大。谢谢党和政府的好政策！”\\r\\n截至目前，全县已有50多名残疾人成功实现就业。\\r\\n免责声明：本文仅代表作者个人观点，与环球网无关。其原创性以及文中陈述文字和内容未经本站证实，对本文以及其中全部或者部分内容、文字的真实性、完整性、及时性本站不作任何保证或承诺，请读者仅作参考，并请自行核实相关内容。\\r\\n'"
     },
     "metadata": {},
     "execution_count": 34
    }
   ],
   "source": [
    "text"
   ]
  },
  {
   "cell_type": "code",
   "execution_count": null,
   "metadata": {},
   "outputs": [],
   "source": []
  }
 ],
 "metadata": {
  "kernelspec": {
   "display_name": "Python 3",
   "language": "python",
   "name": "python3"
  },
  "language_info": {
   "codemirror_mode": {
    "name": "ipython",
    "version": 3
   },
   "file_extension": ".py",
   "mimetype": "text/x-python",
   "name": "python",
   "nbconvert_exporter": "python",
   "pygments_lexer": "ipython3",
   "version": "3.7.6-final"
  }
 },
 "nbformat": 4,
 "nbformat_minor": 2
}