{
 "nbformat": 4,
 "nbformat_minor": 2,
 "metadata": {
  "language_info": {
   "name": "python",
   "codemirror_mode": {
    "name": "ipython",
    "version": 3
   },
   "version": "3.7.6-final"
  },
  "orig_nbformat": 2,
  "file_extension": ".py",
  "mimetype": "text/x-python",
  "name": "python",
  "npconvert_exporter": "python",
  "pygments_lexer": "ipython3",
  "version": 3,
  "kernelspec": {
   "name": "python37664bit40dc0dc0f4f8425f82bc2b10d91bf305",
   "display_name": "Python 3.7.6 64-bit"
  }
 },
 "cells": [
  {
   "cell_type": "code",
   "execution_count": 15,
   "metadata": {},
   "outputs": [],
   "source": [
    "import os\n",
    "import shutil\n",
    "\n",
    "frompath = r'C:\\Users\\jeffb\\Desktop\\视频'\n",
    "topath = r'C:\\Users\\jeffb\\Desktop\\1'\n",
    "\n",
    "def CutFile(FromFile,ToFile):\n",
    "    shutil.move(FromFile,ToFile)\n",
    "\n",
    "for root, dirs, files in os.walk(frompath):\n",
    "\n",
    "        # root 表示当前正在访问的文件夹路径\n",
    "        # dirs 表示该文件夹下的子目录名list\n",
    "        # files 表示该文件夹下的文件list\n",
    "        # 遍历文件\n",
    "        for f in files:\n",
    "            CutFile(os.path.join(root, f),topath)\n",
    "            print('{} is cut to {}',os.path.join(root, f),topath)\n",
    "\n",
    "        # 遍历所有的文件夹\n",
    "        for d in dirs:\n",
    "            pass\n",
    "            #print(os.path.join(root, d))"
   ]
  },
  {
   "cell_type": "code",
   "execution_count": null,
   "metadata": {},
   "outputs": [],
   "source": []
  },
  {
   "cell_type": "code",
   "execution_count": null,
   "metadata": {},
   "outputs": [],
   "source": []
  }
 ]
}